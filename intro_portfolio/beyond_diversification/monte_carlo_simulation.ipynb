{
 "cells": [
  {
   "cell_type": "markdown",
   "metadata": {},
   "source": [
    "# Monte Carlo Simulation with Time-varying Parameters"
   ]
  },
  {
   "cell_type": "markdown",
   "metadata": {},
   "source": [
    "## A Stochastic Model for Asset Returns\n",
    "\n",
    "**Return process** modelled as\n",
    "\n",
    "$\\begin{cases}\n",
    "       \\frac{dS_t}{S_t}=\\underbrace{(r + \\sigma\\lambda)}_{=\\mu}dt + \\sigma dW_t   \n",
    "       \\quad\\text{Return on the stock index}\\\\\n",
    "       \\frac{dB_t}{B_t}= rdt \\iff B_t = B_0 e^{rt} \\quad\\text{Return on the T-bill}\n",
    " \\end{cases}$"
   ]
  },
  {
   "cell_type": "markdown",
   "metadata": {},
   "source": [
    "## A Model with a Stochastic Opportunity Set\n",
    "\n",
    "\n",
    "We may also **consider** a more general model:\n",
    "\n",
    "$\\frac{dS_t}{S_t} = \\left( r_t + \\underbrace{\\sqrt{V_t}}_{\\sigma_t} \\lambda^2_t)\\right) dt+  \\underbrace{\\sqrt{V_t}}_{\\sigma_t} dW^s_t$\n",
    "\n",
    "In reality, everything is time variant. \n",
    "* Interest rates change over time. $r$ shouldn't be regarded as a constant, it should be regarded as a time varying quantity. $r$ should be regarded as $r_t$ as a stochastic process in itself.\n",
    "* Volatility is also time varying. $\\sigma_t$ can also be thought about as $\\sqrt{V_t}$ as the square root of the variance of the stock return. We are recognizing that stock return volatility or stock return variance is not constant. It varies over time.\n",
    "* The Sharpe Ratio $\\lambda^S_t$ is also a time varying quantity.\n",
    "\n",
    "If we want to generate more reasonable, more realistic stochastic scenarios we must recognize that these parameters change over time by introducing stochastic processes, not only for the return themselves, but also for the value of the parameters. In other words, we are going to allow $r_t$ to evolve over time. \n",
    "\n",
    "$dr_t = a(b - r_t)dt + \\sigma_r dW^r_t$\n",
    "* On the rhs of these equation we have a deterministic component with a mean-reverting feature around it.\n",
    "* $a$: The speed of mean reversion\n",
    "* $b$: The long-term mean of the process\n",
    "* $\\sigma_r dW^r_t$: The Brownian Motion driving uncertainty around changes in interest rates\n",
    "\n",
    "$dV_t = \\alpha(\\hat{V} - V_t)dt + \\sigma_V \\sqrt{V_t} dW^V_t$\n",
    "* For variance we need to be more careful to avoid that variance becomes negative. By definition variance must be positive. This is achieved by introducing the $\\sqrt{V_t}$ before the brownian perturbation.\n",
    "\n",
    "All of these processes are called mean-reverting processes because they reflect the fact that in the real-world, interest rates, volatility and Sharpe ratios tend to be positive."
   ]
  },
  {
   "cell_type": "markdown",
   "metadata": {},
   "source": [
    "### Example\n",
    "\n",
    "Assuming a mean-reverting model for interest rates, what happens when the current interest rate value is below the long-term mean value?\n",
    "\n",
    "Interest rate goes up on average: When interest rate is below it's long-term mean value, it tends to go back up on the long-term mean value on average, with an intensity which is proportional to the speed of mean-reversion\n",
    "\n",
    "\n",
    "Assuming a mean-reverting model for interest rates with long-term mean level equal to 2%. If the current level of interest rate is 3% and if the speed of mean reversion is 0.5, what is the average annual expected change in interest rate?\n",
    "\n",
    "**-0.5%**: The expected change in interest rate is given by $0.5(2\\%-3\\%)=-0.5\\%$"
   ]
  },
  {
   "cell_type": "markdown",
   "metadata": {},
   "source": [
    "## Wrap-up\n",
    "\n",
    "**Asset returns** are often assumed to follow a random walk. That is we assume that asset returns are **normally distributed** with zero correlation and a variance proportional to time.\n",
    "\n",
    "We can use the **brownian motion process** to construct more complex asset return models with **time-varying parameters**"
   ]
  },
  {
   "cell_type": "code",
   "execution_count": null,
   "metadata": {},
   "outputs": [],
   "source": []
  }
 ],
 "metadata": {
  "kernelspec": {
   "display_name": "Python 3",
   "language": "python",
   "name": "python3"
  },
  "language_info": {
   "codemirror_mode": {
    "name": "ipython",
    "version": 3
   },
   "file_extension": ".py",
   "mimetype": "text/x-python",
   "name": "python",
   "nbconvert_exporter": "python",
   "pygments_lexer": "ipython3",
   "version": "3.7.5"
  }
 },
 "nbformat": 4,
 "nbformat_minor": 4
}
