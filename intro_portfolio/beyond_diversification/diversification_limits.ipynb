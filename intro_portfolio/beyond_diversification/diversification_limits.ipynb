{
 "cells": [
  {
   "cell_type": "markdown",
   "metadata": {},
   "source": [
    "# Limits of Diversification"
   ]
  },
  {
   "cell_type": "markdown",
   "metadata": {},
   "source": [
    "Diversification will **fail** you when you need it the most.\n",
    "\n",
    "Trying to address this limitation by \"improving\" diversification **simply wont work**\n",
    "\n",
    "**Almost by definition** one cannot diversify away systematic risk\n",
    "* systematic risk is the risk factor that impacts all the assets simultaneously. \n",
    "* only diversify specific/idiosyncratic risk"
   ]
  },
  {
   "cell_type": "markdown",
   "metadata": {},
   "source": [
    "## Benefits of Diversification"
   ]
  },
  {
   "cell_type": "markdown",
   "metadata": {},
   "source": [
    "Eliminating unrewarded idiosyncratic risks"
   ]
  },
  {
   "cell_type": "markdown",
   "metadata": {},
   "source": [
    "## Diversification versus hedging\n",
    "\n",
    "**Hedging** (i.e. avoiding risk taking) is the only effective way to obtain **downside protection**.\n",
    "\n",
    "The problem with **hedging** is that investors give up on the upside at the same time as they give up on the downside."
   ]
  },
  {
   "cell_type": "markdown",
   "metadata": {},
   "source": [
    "## Hedging versus Insurance\n",
    "\n",
    "### Benefits of Insurance?\n",
    "\n",
    "Get **downside protection** while allowing for upside potential\n",
    "\n",
    "**The best** of both worlds\n",
    "\n",
    "### What is insurance?\n",
    "\n",
    "**Insurance** is dynamic hedging"
   ]
  },
  {
   "cell_type": "markdown",
   "metadata": {},
   "source": [
    "**Question**\n",
    "\n",
    "Which ones of these statements about diversification are correc?\n",
    "\n",
    "* Diversification is an effective way to decrease downside risk.\n",
    "    * Incorrect: Diversification is not very effective at managing downside risk. Conditional upon market downturns, correlation levels tend to increase and diversification benefits tend to disappear.\n",
    "    \n",
    "* Diversification is an effective way to increase the reward per unit of risk.\n",
    "    * correct: The main benefit of diversification is to deliver the highest reward per unit of risk across market conditions.\n",
    "    \n",
    "* Diversification is an effective way to decrease idiosyncratic risk.\n",
    "    * Diversification allows investors to reduce specific risk within their portfolios, which is how they can achieve a high reward per unit of risk."
   ]
  },
  {
   "cell_type": "markdown",
   "metadata": {},
   "source": [
    "## Wrap-up\n",
    "\n",
    "**Diversification** cannot help manage systematic risk\n",
    "\n",
    "**Hedging is effective** at managing systematic risk but **you have to give up on the upside** as well\n",
    "\n",
    "**Insurance** that is dynamic hedging can offer the best of both worlds"
   ]
  }
 ],
 "metadata": {
  "kernelspec": {
   "display_name": "Python 3",
   "language": "python",
   "name": "python3"
  },
  "language_info": {
   "codemirror_mode": {
    "name": "ipython",
    "version": 3
   },
   "file_extension": ".py",
   "mimetype": "text/x-python",
   "name": "python",
   "nbconvert_exporter": "python",
   "pygments_lexer": "ipython3",
   "version": "3.7.5"
  }
 },
 "nbformat": 4,
 "nbformat_minor": 4
}
