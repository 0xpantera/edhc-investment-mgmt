{
 "cells": [
  {
   "cell_type": "markdown",
   "metadata": {},
   "source": [
    "# Simulating Asset Returns with Random Walks"
   ]
  },
  {
   "cell_type": "markdown",
   "metadata": {},
   "source": [
    "## A Stochastic Model for Asset Returns\n",
    "\n",
    "Simple two-asset case:\n",
    "* risky asset: a stock index for example. We're going to call the value of that risky asset $S_t$, the value of the stock index at time $_t$.\n",
    "* risk-free asset: A one year Treasury bill for example, consistent with an investment horizon of one-year. We call the value of thr risk-free asset $B_t$ where the B is for bond."
   ]
  },
  {
   "cell_type": "markdown",
   "metadata": {},
   "source": [
    "## Return process modelled as\n",
    "\n",
    "$\\begin{cases}\n",
    "       \\frac{dS_t}{S_t}=\\underbrace{(r + \\sigma\\lambda)}_{=\\mu}dt + \\sigma dW_t   \n",
    "       \\quad\\text{Return on the stock index}\\\\\n",
    "       \\frac{dB_t}{B_t}= rdt \\iff B_t = B_0 e^{rt} \\quad\\text{Return on the T-bill}\n",
    " \\end{cases}$\n",
    " \n",
    " \n",
    "**Where:**\n",
    "\n",
    "$\\frac{dS_t}{S_t} =$ Change in value of the stock index between time $t$ and time $t+dt$ which is a time slightly later. So $dS_t$ is the change in dollar value and if you divide by $S_t$ then it becomes a percentage change. That's why this is the return. The return over the infinitesimaly small period we're calling $dt$.\n",
    "\n",
    "**Now, on the RHS of the equation we divide it into two components:**\n",
    "\n",
    "The first component is like a trend, it's based on the expected return. That's how much the asset will go up on average because of this expected return. Because this is an average, around it there will be a spread of values. That's the second component of the equation, the stochastic component. \n",
    "\n",
    "$\\underbrace{(r + \\sigma\\lambda)}_{=\\mu} =$ We typically call the expected return $\\mu$. Here $\\mu$ is decomposed in two parts:\n",
    "\n",
    "$r$: the riskfree rate\n",
    "\n",
    "$\\sigma$: volatility of the stock index\n",
    "\n",
    "$\\lambda$: the sharpe ratio on that stock index\n",
    "\n",
    "$dW_t$: The Brownian motion process which is our best model for a random walk. Equivalent to a random walk in continuous-time.\n",
    "\n",
    "The expected return is euqal to the riskfree rate plus the percent risk premium. The risk premium comes from the volatility in the stock index times the sharpe ratio.\n",
    "\n",
    "e.i. $10\\% = 2\\% + 16\\% \\times 0.5$\n",
    "\n",
    "Where 2% is the riskfree rate plus 8% risk premium which is further composed of a 16% unit of risk (volatility) from the stock index times a 0.5% unit price per unit of risk (Sharpe ratio).\n",
    "\n",
    "That would be a 10% expected return on average over a year, which is then multiplied by $dt$ because this is the interval of time that we're looking at.\n",
    "\n",
    "**What happens to the risk-free asset**\n",
    "\n",
    "We only get the deterministic component. There is no random walk type component. This suggests that the return between now and a year from now is predictable. This is the case by definition of a risk-free asset. If you buy a pure discount bond at 100 and get a face value of 105, you're going to get 5% over one year and there is no uncertainty."
   ]
  },
  {
   "cell_type": "code",
   "execution_count": 1,
   "metadata": {},
   "outputs": [
    {
     "data": {
      "text/plain": [
       "12.0"
      ]
     },
     "execution_count": 1,
     "metadata": {},
     "output_type": "execute_result"
    }
   ],
   "source": [
    "2+0.5*20"
   ]
  },
  {
   "cell_type": "markdown",
   "metadata": {},
   "source": [
    "## Brownian Motion\n",
    "\n",
    "Looks like noise or a random walk. Introduced in 1900 by Louis Bachelier.\n",
    "\n",
    "### Discrete Time Formulation\n",
    "\n",
    "$\\frac{S_{t+dt} - S_t}{S_t} = (r+\\sigma\\lambda)dt + \\sigma \\sqrt{dt \\xi_t}$\n",
    "\n",
    "$\\frac{S_{t+dt} - S_t}{S_t}$: Percentage return between time $t$ and time $t+dt$\n",
    "\n",
    "$(r+\\sigma\\lambda)$: The expected return\n",
    "\n",
    "$\\sqrt{dt \\xi_t}$: Brownian Motion\n",
    "\n",
    "The size of the Brownian Motion is defined in terms of some kind of random variables. We'll call them $\\xi_t$. Those random variables are mean 0 and unit variance, just like noise. \n",
    "\n",
    "It's a stochiastic process, and the change in that Brownian motions are modeled as Gaussian variables with mean 0 and volatility equal to $dt$ the time interval.\n",
    "\n",
    "The importance of Brownian Motion is the concept of independent increments. So whether your'e coming from an up-move or a down-move, at all points in time the probabliity to go up or to go down for these Brownian motion is always half. There is no serial correlation. There is no momentum. \n",
    "\n",
    "This has been recognized as a fair approximation of the returns on securities. "
   ]
  },
  {
   "cell_type": "markdown",
   "metadata": {},
   "source": [
    "If you estimate volatility of a portfolio return to be 2% over the monthly horizon, what would be your estimate for annual volatility?\n",
    "\n",
    "6.9%: The square-root of time scaling law implies that annual volatility is √12 times higher than monthly volatility. So the estimate for annual volatility is √12 x 2% = 6.9%. "
   ]
  }
 ],
 "metadata": {
  "kernelspec": {
   "display_name": "Python 3",
   "language": "python",
   "name": "python3"
  },
  "language_info": {
   "codemirror_mode": {
    "name": "ipython",
    "version": 3
   },
   "file_extension": ".py",
   "mimetype": "text/x-python",
   "name": "python",
   "nbconvert_exporter": "python",
   "pygments_lexer": "ipython3",
   "version": "3.7.5"
  }
 },
 "nbformat": 4,
 "nbformat_minor": 4
}
