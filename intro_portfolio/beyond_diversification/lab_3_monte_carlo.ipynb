{
 "cells": [
  {
   "cell_type": "markdown",
   "metadata": {},
   "source": [
    "# Random Walks and Monte Carlo"
   ]
  },
  {
   "cell_type": "markdown",
   "metadata": {},
   "source": [
    "## Random Walk Generation\n",
    "\n",
    "$\\frac{S_{t+dt} - S_t}{S_t} = \\mu dt + \\sigma \\sqrt{dt}\\xi_t$"
   ]
  },
  {
   "cell_type": "code",
   "execution_count": 1,
   "metadata": {},
   "outputs": [
    {
     "name": "stderr",
     "output_type": "stream",
     "text": [
      "/Users/franco/miniconda3/envs/portfolio/lib/python3.7/importlib/_bootstrap.py:219: RuntimeWarning: numpy.ufunc size changed, may indicate binary incompatibility. Expected 192 from C header, got 216 from PyObject\n",
      "  return f(*args, **kwds)\n",
      "/Users/franco/miniconda3/envs/portfolio/lib/python3.7/importlib/_bootstrap.py:219: RuntimeWarning: numpy.ufunc size changed, may indicate binary incompatibility. Expected 192 from C header, got 216 from PyObject\n",
      "  return f(*args, **kwds)\n"
     ]
    }
   ],
   "source": [
    "import pandas as pd\n",
    "import numpy as np\n",
    "\n",
    "\n",
    "def gbm(n_years=10, n_scenarios=1000, mu=0.07, sigma=0.15, steps_per_year=12, s_0=100.0):\n",
    "    \"\"\"\n",
    "    Evolution of a Stock Price using a Geometric Brownian Motion Model\n",
    "    \"\"\"\n",
    "    dt = 1/steps_per_year\n",
    "    n_steps = int(n_years*steps_per_year)\n",
    "    xi = np.random.normal(size=(n_steps, n_scenarios))\n",
    "    rets = mu*dt + sigma*np.sqrt(dt)*xi\n",
    "    rets = pd.DataFrame(rets)\n",
    "    # to prices\n",
    "    prices = s_0*(1+rets).cumprod()\n",
    "    return prices"
   ]
  },
  {
   "cell_type": "code",
   "execution_count": null,
   "metadata": {},
   "outputs": [],
   "source": []
  }
 ],
 "metadata": {
  "kernelspec": {
   "display_name": "Python 3",
   "language": "python",
   "name": "python3"
  },
  "language_info": {
   "codemirror_mode": {
    "name": "ipython",
    "version": 3
   },
   "file_extension": ".py",
   "mimetype": "text/x-python",
   "name": "python",
   "nbconvert_exporter": "python",
   "pygments_lexer": "ipython3",
   "version": "3.7.5"
  }
 },
 "nbformat": 4,
 "nbformat_minor": 4
}
