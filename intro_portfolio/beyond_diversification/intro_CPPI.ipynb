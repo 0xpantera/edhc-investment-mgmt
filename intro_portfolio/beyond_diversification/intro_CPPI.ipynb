{
 "cells": [
  {
   "cell_type": "markdown",
   "metadata": {},
   "source": [
    "# Introduction to CPPI\n",
    "\n",
    "Constant Proportion Portfolio Insurance"
   ]
  },
  {
   "cell_type": "markdown",
   "metadata": {},
   "source": [
    "* The **CPPI procedure** allows for the construction of convex payoffs.\n",
    "* This procedure **dynamically allocates total assets** to a risky asset and a safe asset.\n",
    "    * If we think about our wealth/asset level as being the current value of our assets and we think about a floor, which is the minimum level for our assets, something we don't want to go below, the minimum that is extremely important to protect.\n",
    "    * The procedure tells us that if  we look at the difference between our asset value and the minimum callback to cushion, that's how much you can put at risk because if your cushion decreases you may go below the floor.\n",
    "    * At every point in time, look at our cushion (assset value - flow) and allocate to the risky asset a multiple of that cushion.\n",
    "    * What happens is that even if the cash goes down, we're reducing the risky asset allocation."
   ]
  },
  {
   "cell_type": "markdown",
   "metadata": {},
   "source": [
    "## Example\n",
    "\n",
    "Multiplier $M = 3$\n",
    "\n",
    "Initial Wealth = $100\n",
    "\n",
    "80% wealth preservation floor. (80% of our current wealth)\n",
    "\n",
    "If we have 100% of your wealth, our floor is at 80%, how much should you allocate to the risky components in this CPPI mechanism?\n",
    "\n",
    "Initial investment in risky asset is 3x(\\$100 - \\$80)= \\$60"
   ]
  },
  {
   "cell_type": "markdown",
   "metadata": {},
   "source": [
    "## Downside Protection\n",
    "\n",
    "\n",
    "We're not going to be able to change allocations very frequently (hourly, daily) because of transaction costs and time. \n",
    "\n",
    "If we are trading on a quarterly basis, between two trading dates, the loss in the risky asset may go below the floor before we have time to change. The risk of breaching the floor because of discrete trading in CPPI strategy is known as **gap risk**\n",
    "\n",
    "Gap risk materializes **if and only if** the loss on the risky portfolio relative to the safe portfolio exceeds 1/M within the trading interval.\n",
    "\n",
    "Let's say M = 5. If within a quarter you're losing more than 20% in the risky portfolio relative to your floor, then you're going to breach the floor in this particular case. \n",
    "\n",
    "That's why it's recommended that you calibrate the multiplier as a function of the maximum potential loss withtin a given trading interval."
   ]
  },
  {
   "cell_type": "markdown",
   "metadata": {},
   "source": [
    "Assume a drop of 20% on the risky asset. Which multiplier values would lead to a violation of the floor?\n",
    "\n",
    "With $m=6$ the largest drop of portfolio value that does not lead to a violation of the floor is $\\frac{1}{6} \\lt 20\\%$ so a violation will occur in this case."
   ]
  },
  {
   "cell_type": "markdown",
   "metadata": {},
   "source": [
    "# Extensions to CPPI"
   ]
  },
  {
   "cell_type": "markdown",
   "metadata": {},
   "source": [
    "## Introducing Max Draw Down Constraints\n",
    "\n",
    "Suitable extensions can accommodate the presence of maximum drawdown constraints.\n",
    "\n",
    "Max Drawdown constraint:\n",
    "$ V_t \\gt \\alpha M_t$ where\n",
    "\n",
    "$V_t$ is the value of the portfolio at time $_t$\n",
    "\n",
    "$M_t$ is the maximum value of the portfolio between time 0 and time $_t$\n",
    "\n",
    "$1 - \\alpha$ is the maximum acceptable drawdown"
   ]
  },
  {
   "cell_type": "markdown",
   "metadata": {},
   "source": [
    "What we want is to maintain a maximum drawdown of e.i. 20%. How can we accomplish this using CPPI type strategies?\n",
    "\n",
    "We're going to introduce a process that we're going to call $M_t$. This is called a running max process in mathematics, and the running max process is a process that keeps track of the maximum value between day zero and day $_t$ that has been reached by the underlying asset value process.\n",
    "\n",
    "So $M_t$ is the maximum for all times $S$ between 0 and $_t$ of the value $V_s$.\n",
    "\n",
    "Now we impose a constraint so that the value at any point in time is greater than 80% of that maximum value. By doing this we make sure that the maximum loss we can take with respect to the highest point is 20%.\n",
    "\n",
    "More generally, if we call $\\alpha$ the percentage of the maximum value that we're protecting or in other words, if we're imposing that the value of our portfolio is greater than $\\alpha%$ of the maximum value, then this allows us to protect $1 - \\alpha$ as a maximum drawdown. "
   ]
  },
  {
   "cell_type": "markdown",
   "metadata": {},
   "source": [
    "### Example\n",
    "\n",
    "Consider the following sequence of portfolio value over time:\n",
    "* P(0)=100, P(1)=110, P(2)=105, P(3)=108, P(4)=111. \n",
    "\n",
    "What is the value of M(3) of the max process at date t=3?\n",
    "\n",
    "**110** is the value of the running max process at dates 1,2 and 3 before it turn 111 at date 4."
   ]
  },
  {
   "cell_type": "markdown",
   "metadata": {},
   "source": [
    "## CPPI with performance cap"
   ]
  },
  {
   "cell_type": "markdown",
   "metadata": {},
   "source": [
    "Why would we want a cap (maximum amount of wealth we want to protect)?\n",
    "\n",
    "In general, it's always better to get more wealth.\n",
    "\n",
    "However, protecting downside has an opportunity cost. Now by giving up on some of the upside above and beyond the cap, where investors have fit in marginal happiness or utility, then you can actually get an opportunity gain and this opportunity gain will cover some or all of the opportunity gain and this opportunity gain will cover some or all of the opportunity cost from downside protection. \n",
    "\n",
    "\n",
    "**How?**\n",
    "\n",
    "$F_t \\leq A_t \\leq T_t \\implies E_t = m(A_t - F_t)$\n",
    "\n",
    "$T_t \\leq A_t \\leq C_t \\implies E_t = m(C_t - A_t)$\n",
    "\n",
    "We have to define a threshold level. The threshold level is somewhere between the floor of of $F_t$ and the cap $C_t$. \n",
    "* If you asset value is below the thershold, you should think in terms of CPPI. In other words, it the asset value is between the floor and the cap, the allocation to the risky asset should be the multiplier times your asset value minus the floor (CPPI).\n",
    "* When we're above the floor, we'll switch perspective and be more concerned with hitting the cap. By assumption, we don't want to go beyond the cap. So we start reducing the risk taking when getting closer to the cap."
   ]
  },
  {
   "cell_type": "markdown",
   "metadata": {},
   "source": [
    "### Example\n",
    "\n",
    "What is the initial allocation to the risky asset for a portfolio starting at $100, with a multiplier equal to 4, a wealth preservation floor set at 90% and a cap set at 105%?\n",
    "\n",
    "20% The portfolio initial value is closer to the cap than it is to the floor. In this case, the investment in risky asset is 4x(105% - 100%) = 20%"
   ]
  },
  {
   "cell_type": "markdown",
   "metadata": {},
   "source": [
    "## Performance Cap and the Threshold process\n",
    "\n",
    "How do we pick the threshold value?\n",
    "\n",
    "By **imposing** the \"smooth-pasting\" condition\n",
    "\n",
    "$F_t \\leq A_t \\leq T_t \\implies E_t = m(A_t - F_t)$\n",
    "\n",
    "$T_t \\leq A_t \\leq C_t \\implies E_t = m(C_t - A_t)$\n",
    "\n",
    "\n",
    "The allocation should be exactly the same, looking up and looking down, when you're at the threshold value. \n",
    "\n",
    "$A_t = T_t \\implies E_t = m(T_t - F_t) = m(C_t - T_t)$\n",
    "\n",
    "The **threshold value** appears to be the average of the floor and the ceiling value:\n",
    "\n",
    "$T_t = \\frac{F_t+C_t}{2}$"
   ]
  },
  {
   "cell_type": "markdown",
   "metadata": {},
   "source": [
    "### Example\n",
    "\n",
    "Consider a portfolio starting at $100, with a multiplier equal to 4, a wealth preservation floor set at 90% and a cap set at 105%. What is the threshold value beyond which the allocation to risky asset is computed with respect to the cap, and not to the floor?\n",
    "\n",
    "97.5% Threshold level is equal to (90% + 105%)/2 = 97.5%"
   ]
  },
  {
   "cell_type": "code",
   "execution_count": null,
   "metadata": {},
   "outputs": [],
   "source": []
  }
 ],
 "metadata": {
  "kernelspec": {
   "display_name": "Python 3",
   "language": "python",
   "name": "python3"
  },
  "language_info": {
   "codemirror_mode": {
    "name": "ipython",
    "version": 3
   },
   "file_extension": ".py",
   "mimetype": "text/x-python",
   "name": "python",
   "nbconvert_exporter": "python",
   "pygments_lexer": "ipython3",
   "version": "3.7.5"
  }
 },
 "nbformat": 4,
 "nbformat_minor": 4
}
