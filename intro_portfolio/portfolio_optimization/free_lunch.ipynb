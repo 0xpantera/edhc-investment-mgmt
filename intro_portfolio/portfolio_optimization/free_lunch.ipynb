{
 "cells": [
  {
   "cell_type": "markdown",
   "metadata": {},
   "source": [
    "# The Only Free Lunch in Finance"
   ]
  },
  {
   "cell_type": "markdown",
   "metadata": {},
   "source": [
    "The following is the core of portfolio construction"
   ]
  },
  {
   "cell_type": "markdown",
   "metadata": {},
   "source": [
    "## 2-Asset Combinations\n",
    "\n",
    "We return to the **single period framework** and look at the risk and return of a portfolio of assets starting with a simple **2-asset portfolio**\n",
    "\n",
    "* Take 2 assets, A and B, and look at it in a risk/return space: mean-variance framework.\n",
    "    * x-axis: variance/std -> risk\n",
    "    * y-axis: returns\n",
    "\n",
    "|Asset  | Return  |  Volatility|\n",
    "|------ | ------- | ---------- |\n",
    "| A | 4% | 10%|\n",
    "| B | 6% | 14%|\n",
    "\n",
    "    \n",
    "### What is the **return and volatility** of a combination of A and B?\n",
    "A portfolio that is **100%** in A and **0%** in B\n",
    "* The **Risk and Return** of that portfolio is **the same as** the risk and return of A.\n",
    "\n",
    "A portfolio that is **100%** in B and **0%** in A\n",
    "* The **risk and return** of that portfolio is **the same as** the risk and return of B.\n",
    "    \n",
    "We have **50%** in A and **50%** in B?\n",
    "* The return of a portfolio is nothing more than the weighted average of all the components of your portfolio.\n",
    "* The volatility cannot be answered with just the information we have. **It depends on the correlation between A and B**\n",
    "    * If A and B are perfectly correlated (they basically behave like the same asset), then you would see the volatility is kind of halfway in between.\n",
    "    * If they aren't correlated, the combination will actually be less volatile than you might think.\n",
    "    * The more decorrelated they are, the less the volatility of that portfolio.\n",
    "    * As long as the two weights are non-zero and the correlation between the two assets are less than 1, the volatility of the portfolio will always be less than the weighted average volatilities of the two assets.\n",
    "    \n",
    "### Example\n",
    "\n",
    "Returns:\n",
    "* $R(w_A, w_B) = w_A \\times R_a + w_B \\times R_b$\n",
    "\n",
    "Volatility:\n",
    "* $\\sigma(w_a, w_b) = \\sigma^2_A w^2_A + \\sigma^2_B w^2_B + 2w_Aw_B\\sigma_A\\sigma_B\\rho_{A,B}$\n",
    "\n",
    "Let's assume the correlation between these is: $\\rho\\{A,B\\} = 0.4$"
   ]
  },
  {
   "cell_type": "markdown",
   "metadata": {},
   "source": [
    "**Question**\n",
    "\n",
    "An analyst tells you that the minimum volatility portfolio you can construct from two risky assets X and Y is to put 100% of your capital in X. What is the analyst telling you?\n",
    "\n",
    "* Either X and Y are perfectly correlated: If X and Y are perfectly correlated, the minimum value portfolio is obtained by putting 100% of your capital in the portfolio with the lower of the two volatilities\n",
    "\n",
    "The lowest possible volatility you can construct from a portfolio of two assets A and B \n",
    "\n",
    "* INCREASES as the correlation between A and B increases"
   ]
  },
  {
   "cell_type": "code",
   "execution_count": null,
   "metadata": {},
   "outputs": [],
   "source": []
  }
 ],
 "metadata": {
  "kernelspec": {
   "display_name": "Python 3",
   "language": "python",
   "name": "python3"
  },
  "language_info": {
   "codemirror_mode": {
    "name": "ipython",
    "version": 3
   },
   "file_extension": ".py",
   "mimetype": "text/x-python",
   "name": "python",
   "nbconvert_exporter": "python",
   "pygments_lexer": "ipython3",
   "version": "3.7.5"
  }
 },
 "nbformat": 4,
 "nbformat_minor": 4
}
