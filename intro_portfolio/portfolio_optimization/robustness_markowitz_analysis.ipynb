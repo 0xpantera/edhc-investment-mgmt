{
 "cells": [
  {
   "cell_type": "markdown",
   "metadata": {},
   "source": [
    "# Lack of Robustness of Markowitz Analysis"
   ]
  },
  {
   "cell_type": "markdown",
   "metadata": {},
   "source": [
    "## Parameter Uncertainty\n",
    "\n",
    "**Estimation Error** is the key challenge in portfolio optimization\n",
    "* If you feed and optimizer with parameters that have estimation errors in them you are going to get a misspecified portfolio.\n",
    "* Very extreme portfolios."
   ]
  },
  {
   "cell_type": "markdown",
   "metadata": {},
   "source": [
    "## Improving Parameter Estimates\n",
    "\n",
    "**Various methodologies exist** for improving estimates for expected returns and covariance parameters.\n",
    "\n",
    "However some **uncertainty** always remains which are particularly large for expected returns."
   ]
  },
  {
   "cell_type": "markdown",
   "metadata": {},
   "source": [
    "## Global Minimum Variance Portfolio\n",
    "\n",
    "What do people actually do when they want to implement Markowitz Analysis in practice?\n",
    "\n",
    "* They know that expected returns are very noisty and not reliable.\n",
    "* They focus on the only portfolio on the efficient frontier for which no expected return parameter is needed.\n",
    "* This portfolio is know as the **global minimum variance portfolio**\n",
    "* We are trying to minimize variance without any expected return targets so we don't rely on expected return estimates. "
   ]
  },
  {
   "cell_type": "markdown",
   "metadata": {},
   "source": [
    "**Question**\n",
    "\n",
    "What portfolio on the efficient frontier is the least sensitive to estimation errors?\n",
    "\n",
    "* The global minimum variance portfolio: The GMV is the portfolio that is least sensitive to errors in parameter estimates. Since it requires no expected return estimates, it is only sensitive to errors in risk parameter estimates.\n",
    "\n",
    "Consider the S&P500 universe. Which portfolio is most likely to have the highest Sharpe ratio?\n",
    "\n",
    "* The equally-weighted portfolio: The EW is not subject to any estimation error and as a result will likely have a higher risk-adjusted performance compared to the MSR portfolio based on sample estimates."
   ]
  },
  {
   "cell_type": "markdown",
   "metadata": {},
   "source": [
    "## Wrap-up\n",
    "\n",
    "* **Markowitz Analysis** is hardly used in practice since it tends to **yield unreasonable corner solutions**.\n",
    "* This is **because** of the presence of parameter estimates."
   ]
  },
  {
   "cell_type": "code",
   "execution_count": null,
   "metadata": {},
   "outputs": [],
   "source": []
  }
 ],
 "metadata": {
  "kernelspec": {
   "display_name": "Python 3",
   "language": "python",
   "name": "python3"
  },
  "language_info": {
   "codemirror_mode": {
    "name": "ipython",
    "version": 3
   },
   "file_extension": ".py",
   "mimetype": "text/x-python",
   "name": "python",
   "nbconvert_exporter": "python",
   "pygments_lexer": "ipython3",
   "version": "3.7.5"
  }
 },
 "nbformat": 4,
 "nbformat_minor": 4
}
