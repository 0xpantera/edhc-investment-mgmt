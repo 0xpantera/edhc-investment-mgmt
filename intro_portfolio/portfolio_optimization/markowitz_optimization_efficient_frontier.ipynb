{
 "cells": [
  {
   "cell_type": "markdown",
   "metadata": {},
   "source": [
    "# Markowitz Optimization and the Efficient Frontier"
   ]
  },
  {
   "cell_type": "markdown",
   "metadata": {},
   "source": [
    "All possible portfolios constructed from three assets X, Y and Z must lie on a curve between X and Z that passes through Y. True or False ?\n",
    "\n",
    "* False: you can build a portfolio from X, Y and Z that does not lie on any of the curves between any pair of X, Y and Z, but rather defines an entire region"
   ]
  },
  {
   "cell_type": "markdown",
   "metadata": {},
   "source": [
    "The answer to the question: which portfolio should I hold is:\n",
    "* You would never hold anything in the interior of the region of possible portfolios. One is going up which gives you better returns and one is on the left that gives you same returns with lower volatility."
   ]
  },
  {
   "cell_type": "markdown",
   "metadata": {},
   "source": [
    "The best portfolio to hold is a portfolio in the far interior of the region in the Mean-Variance space. True or False ?\n",
    "* False: portfolios on the edge represent the best you can do either in terms of expected return or expected volatility.\n",
    "\n",
    "* That edge is what we call **the efficient frontier**"
   ]
  },
  {
   "cell_type": "markdown",
   "metadata": {},
   "source": [
    "The efficient frontier represents:\n",
    "* The portfolios that offer the lowest volatility for a given level of return. They also represent the portfolio of highest expected return for a given level of volatility."
   ]
  }
 ],
 "metadata": {
  "kernelspec": {
   "display_name": "Python 3",
   "language": "python",
   "name": "python3"
  },
  "language_info": {
   "codemirror_mode": {
    "name": "ipython",
    "version": 3
   },
   "file_extension": ".py",
   "mimetype": "text/x-python",
   "name": "python",
   "nbconvert_exporter": "python",
   "pygments_lexer": "ipython3",
   "version": "3.7.5"
  }
 },
 "nbformat": 4,
 "nbformat_minor": 4
}
