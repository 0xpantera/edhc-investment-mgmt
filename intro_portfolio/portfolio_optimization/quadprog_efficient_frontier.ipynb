{
 "cells": [
  {
   "cell_type": "markdown",
   "metadata": {},
   "source": [
    "# Convex Optimization to Draw the Efficient Frontier"
   ]
  },
  {
   "cell_type": "markdown",
   "metadata": {},
   "source": [
    "Given a set of **asset returns volatilities** and **correlations** we can plot the efficient frontier.\n",
    "\n",
    "We need to have **expressions** for the return and volatility for a portfolio.\n",
    "* **returns**: weighted average of the returns $R_p = \\sum^k_{i=1}w_iR_i$\n",
    "* **volatility**: The expression for portfolio variance $\\sigma^2$ is a **generalization** of the formula we've already seen in the 2-asset case: $\\sigma^2_p = \\sum^k_{i=1} \\sum^k_{j=1}w_iw_j\\sigma_i\\sigma_j\\rho_{ij}$\n",
    "    * for every possible pair of assets: the weights of i times the weights of j times the volatility of i times the volatility of j times the correlation of i and j\n",
    "    * The volatility in i times the volatility in j times the correlation between i and j is called **covariance**. This can help us make the equation more compact: $\\sigma^2_p = \\sum^k_{i=1} \\sum^k_{j=1}w_iw_j\\sigma_{ij}$ where $\\sigma_{ij}$ is the covariance."
   ]
  },
  {
   "cell_type": "markdown",
   "metadata": {},
   "source": [
    "## Matrix form expression for portfolio return\n",
    "\n",
    "We start by **constructing** the weight vector **w** which is a k x 1 vector of weights, and **R** which is the k x 1 vector of asset returns.\n",
    "\n",
    "$R_p = \\vec{w}^TR$\n",
    "\n",
    "Return of a portfolio:\n",
    "* the transpose of the weight vector: all the weights in the form of a kx1 vector where k is the number of assets\n",
    "* the return vector: kx1 of the return of those assets."
   ]
  },
  {
   "cell_type": "markdown",
   "metadata": {},
   "source": [
    "## The Covariance Matrix\n",
    "\n",
    "The **covariance matrix** is a **symmetric square** kxk matrix where the i and j element is $\\sigma{ij}$ The covariance between i and j which is $\\sigma_i\\sigma_j\\rho_{ij}$\n",
    "\n",
    "Each diagonal element of $\\sum$ is $\\sigma_{ii} = \\sigma_i\\sigma_i\\rho_{ii}$\n",
    "\n",
    "$\\sigma^2_p = \\vec{w}^t\\sum w$\n",
    "\n",
    "* The ij entry is the covariance between i and j\n",
    "* The diagonal is the covariance of the ith element with itself so its $\\sigma_{ii}$ which is nothing more than the volatility of i because it is $\\sigma_i\\sigma_i\\rho_{ii}$ \n",
    "* Bottom line: the diagonal is nothing more than the variance. The off diagonal elements are the covariance."
   ]
  },
  {
   "cell_type": "markdown",
   "metadata": {},
   "source": [
    "The returns of a portfolio of 2 assets depends on weights of the two assets in the portfolio and the correlation between the assets. \n",
    "* False: The correlation between the assets in a portfolio only affect the volatility of the portfolio, no the returns of the portfolio."
   ]
  },
  {
   "cell_type": "markdown",
   "metadata": {},
   "source": [
    "The volatility of a portfolio of assets depends on:\n",
    "* The covariance between the assets: The portfolio volatility is a function of the covariances between each pair of assets, which in turn depends on the volatilities and correlations of the assets."
   ]
  },
  {
   "cell_type": "markdown",
   "metadata": {},
   "source": [
    "## Plotting the Efficient Frontier\n",
    "\n",
    "1. Take some portfolio that lies on the official frontier, which is whatever the asset is that has the lowest return.\n",
    "    * why? Because there's no way to get a lower return than that. So that is clearly at least on the curve. \n",
    "2. One other asset lies on the official frontier, that is the asset with the highest return.\n",
    "    * why? Because there's no way without leverage of getting higheer than that.\n",
    "3. Now we now 2 points on the curve.\n",
    "    * Bottom of the curve: if you put all your money in the lowest returning asset.\n",
    "    * Top of the curve: if you put all your money in the highest returning asset.\n",
    "4. Now we can start building portfolios that lie between these points.\n",
    "    * Every single time we want to run the optimizer to find the minimum possible variance portfolio you can get for a certain level of return.\n",
    "    \n",
    "\n",
    "In order to **find the efficient frontier** recall that the portfolio on the efficient frontier is the one with the minimum volatility for a certain level of return.\n",
    "\n",
    "**Quadratic Form**\n",
    "\n",
    "$Minimize : \\frac{1}{2}\\vec{w}^T\\sum\\vec{w}$\n",
    "\n",
    "Subject to\n",
    "\n",
    "$\\vec{w}^TR = r_0$\n",
    "\n",
    "$\\vec{w}^T1 = 1$\n",
    "\n",
    "$w \\geq 0$\n",
    "\n",
    "\n",
    "Minimizing a value is the same as minimizing half of that value. Why do we do that? Because that particular format of $\\frac{1}{2}\\vec{w}^T\\sum\\vec{w}$ is known as the **Quadratic Form**. Quadratic form is exactly the input that you want to hand over to a quadratic optimizer.\n",
    "\n",
    "* What do we need?\n",
    "    * A Quadratic Optimizer: supply a set of constraints and an objective function.\n",
    "* What is the objective function?\n",
    "    * Minimize the variance.\n",
    "* What are the constraints?\n",
    "    1. The return must be at that certain level and we're going to run it over and over again across that grid of return values so that we can plot each point along the curve. \n",
    "    2. We want all the weights to be greater than 0: no shorting.\n",
    "    3. Weights all add up to one."
   ]
  },
  {
   "cell_type": "code",
   "execution_count": null,
   "metadata": {},
   "outputs": [],
   "source": []
  }
 ],
 "metadata": {
  "kernelspec": {
   "display_name": "Python 3",
   "language": "python",
   "name": "python3"
  },
  "language_info": {
   "codemirror_mode": {
    "name": "ipython",
    "version": 3
   },
   "file_extension": ".py",
   "mimetype": "text/x-python",
   "name": "python",
   "nbconvert_exporter": "python",
   "pygments_lexer": "ipython3",
   "version": "3.7.5"
  }
 },
 "nbformat": 4,
 "nbformat_minor": 4
}
