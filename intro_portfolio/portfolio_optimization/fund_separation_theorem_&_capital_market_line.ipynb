{
 "cells": [
  {
   "cell_type": "markdown",
   "metadata": {},
   "source": [
    "# Fund Separation Theorem and the Capital Market Line"
   ]
  },
  {
   "cell_type": "markdown",
   "metadata": {},
   "source": [
    "The efficient frontier changes shape when a risk free asset is introduced"
   ]
  },
  {
   "cell_type": "markdown",
   "metadata": {},
   "source": [
    "## Capital Market Line"
   ]
  },
  {
   "cell_type": "markdown",
   "metadata": {},
   "source": [
    "* When we look at efficient portfolios we are trying to find the set of portfolios that have the highest possible return for a given volatility level or given volatility target.\n",
    "\n",
    "* When there are only risky assets, then we have the usual shape of the Markowitz efficient frotnier.\n",
    "\n",
    "* When we introduce a risk-free asset we have more feasible portfolios. In particular any portfolio that lies on a straight line, that goes from a risk-free asset to any risky portfolio, is also a feasible portfolio.\n",
    "\n",
    "* Because we want to increase the return per unit of risk, we're trying to maximize the slope of that straight line to increase it all the way to the tangency point with respecto to the Markowitz Efficient Frontier made of risky assets.\n",
    "\n",
    "* That straight line is called the Capital Market Line. More specifically the name for that portfolio is Maximum Sharpe Ratio Portfolio (MSR) because it can be shown that the slope of that line is given by the sharpe ratio of the portfolio. By increasing that slop we are maximizing the sharpe ratio."
   ]
  },
  {
   "cell_type": "markdown",
   "metadata": {},
   "source": [
    "## Maximum Sharpe Ratio Portfolio"
   ]
  },
  {
   "cell_type": "markdown",
   "metadata": {},
   "source": [
    "The portfolio that gives you the highest reward per unit of risk\n",
    "\n",
    "The MSR contains **NO** exposure to specific risks, only to systematic risk.\n",
    "\n",
    "Specific risk tends not to be rewarded because it can be diversified away. By diversifying away anything that's not rewarded, the MSR does a very good job at maximizing reward per unit of risk. \n",
    "\n",
    "$$SR_p = \\frac{\\mu_p - r_f}{\\sigma_p} = \\frac{\\sum^N_i=1 w_i \\mu_i - r_f}{\\sqrt{\\sum^N_{i,j=1} w_i w_j \\sigma_i \\sigma_j \\rho_ij}}$$\n",
    "\n",
    "$$\\rho_{ij} = \\frac{\\sigma_{ij}}{\\sigma_i \\sigma_j}$$"
   ]
  },
  {
   "cell_type": "markdown",
   "metadata": {},
   "source": [
    "What is the Sharpe ratio for a portfolio with expected return 12% and volatility 20% if the risk-free rate is 2%?"
   ]
  },
  {
   "cell_type": "code",
   "execution_count": 1,
   "metadata": {},
   "outputs": [
    {
     "data": {
      "text/plain": [
       "0.49999999999999994"
      ]
     },
     "execution_count": 1,
     "metadata": {},
     "output_type": "execute_result"
    }
   ],
   "source": [
    "(.12 - .02) / .20"
   ]
  },
  {
   "cell_type": "markdown",
   "metadata": {},
   "source": [
    "50% - this suggests that each additinal unit of volatility is rewarded with 50 basis points extra returns"
   ]
  },
  {
   "cell_type": "markdown",
   "metadata": {},
   "source": [
    "**What is the max Sharpe ratio in case all securities have the same expected returns?**\n",
    "\n",
    "* The minimum variance portfolio: The Global Minimum Variance portfolio is also Maximum Sharpe Ratio when all expected returns are equal. In this conditions, portfolio weights no longer impact the numerator of the Sharpe ratio, so maximizing the Sharpe ratio is equivalent to minimizing portfolio volatility."
   ]
  },
  {
   "cell_type": "markdown",
   "metadata": {},
   "source": [
    "## Wrap-up\n",
    "\n",
    "* In the presence of a **risk-free asset** the efficient frontier becomes a straight line: **The Capital Market Line**\n",
    "\n",
    "* All investors **should hold a combination of the risk-free asset and the portfolio** that maximizes the reward-per-risk ratio."
   ]
  }
 ],
 "metadata": {
  "kernelspec": {
   "display_name": "Python 3",
   "language": "python",
   "name": "python3"
  },
  "language_info": {
   "codemirror_mode": {
    "name": "ipython",
    "version": 3
   },
   "file_extension": ".py",
   "mimetype": "text/x-python",
   "name": "python",
   "nbconvert_exporter": "python",
   "pygments_lexer": "ipython3",
   "version": "3.7.5"
  }
 },
 "nbformat": 4,
 "nbformat_minor": 4
}
