{
 "cells": [
  {
   "cell_type": "code",
   "execution_count": 1,
   "metadata": {},
   "outputs": [],
   "source": [
    "import pandas as pd\n",
    "import matplotlib.pyplot as plt\n",
    "import numpy as np\n",
    "import edhec_risk_kit as erk"
   ]
  },
  {
   "cell_type": "code",
   "execution_count": 27,
   "metadata": {},
   "outputs": [],
   "source": [
    "me_m = pd.read_csv(\"data/Portfolios_Formed_on_ME_monthly_EW.csv\",\n",
    "                        header=0, index_col=0, na_values=-99.99)\n",
    "rets = me_m[[\"Lo 20\", \"Hi 20\"]]\n",
    "rets.columns = [\"small_cap\", \"large_cap\"]\n",
    "rets = rets/100\n",
    "rets.index = pd.to_datetime(rets.index, format=\"%Y%m\").to_period(\"M\")"
   ]
  },
  {
   "cell_type": "code",
   "execution_count": 28,
   "metadata": {},
   "outputs": [
    {
     "data": {
      "text/html": [
       "<div>\n",
       "<style scoped>\n",
       "    .dataframe tbody tr th:only-of-type {\n",
       "        vertical-align: middle;\n",
       "    }\n",
       "\n",
       "    .dataframe tbody tr th {\n",
       "        vertical-align: top;\n",
       "    }\n",
       "\n",
       "    .dataframe thead th {\n",
       "        text-align: right;\n",
       "    }\n",
       "</style>\n",
       "<table border=\"1\" class=\"dataframe\">\n",
       "  <thead>\n",
       "    <tr style=\"text-align: right;\">\n",
       "      <th></th>\n",
       "      <th>small_cap</th>\n",
       "      <th>large_cap</th>\n",
       "    </tr>\n",
       "  </thead>\n",
       "  <tbody>\n",
       "    <tr>\n",
       "      <th>1926-07</th>\n",
       "      <td>-0.0057</td>\n",
       "      <td>0.0333</td>\n",
       "    </tr>\n",
       "    <tr>\n",
       "      <th>1926-08</th>\n",
       "      <td>0.0384</td>\n",
       "      <td>0.0233</td>\n",
       "    </tr>\n",
       "    <tr>\n",
       "      <th>1926-09</th>\n",
       "      <td>-0.0048</td>\n",
       "      <td>-0.0009</td>\n",
       "    </tr>\n",
       "    <tr>\n",
       "      <th>1926-10</th>\n",
       "      <td>-0.0329</td>\n",
       "      <td>-0.0295</td>\n",
       "    </tr>\n",
       "    <tr>\n",
       "      <th>1926-11</th>\n",
       "      <td>-0.0055</td>\n",
       "      <td>0.0316</td>\n",
       "    </tr>\n",
       "  </tbody>\n",
       "</table>\n",
       "</div>"
      ],
      "text/plain": [
       "         small_cap  large_cap\n",
       "1926-07    -0.0057     0.0333\n",
       "1926-08     0.0384     0.0233\n",
       "1926-09    -0.0048    -0.0009\n",
       "1926-10    -0.0329    -0.0295\n",
       "1926-11    -0.0055     0.0316"
      ]
     },
     "execution_count": 28,
     "metadata": {},
     "output_type": "execute_result"
    }
   ],
   "source": [
    "rets.head()"
   ]
  },
  {
   "cell_type": "markdown",
   "metadata": {},
   "source": [
    "## Annualized returns"
   ]
  },
  {
   "cell_type": "code",
   "execution_count": 29,
   "metadata": {},
   "outputs": [
    {
     "data": {
      "text/plain": [
       "small_cap    15.197701\n",
       "large_cap     9.849021\n",
       "dtype: float64"
      ]
     },
     "execution_count": 29,
     "metadata": {},
     "output_type": "execute_result"
    }
   ],
   "source": [
    "((rets + 1).prod()**(12/rets.shape[0]) - 1)*100"
   ]
  },
  {
   "cell_type": "markdown",
   "metadata": {},
   "source": [
    "## Annualized volatility"
   ]
  },
  {
   "cell_type": "code",
   "execution_count": 30,
   "metadata": {},
   "outputs": [
    {
     "data": {
      "text/plain": [
       "small_cap    33.670128\n",
       "large_cap    19.511604\n",
       "dtype: float64"
      ]
     },
     "execution_count": 30,
     "metadata": {},
     "output_type": "execute_result"
    }
   ],
   "source": [
    "rets.std()*np.sqrt(12)*100"
   ]
  },
  {
   "cell_type": "markdown",
   "metadata": {},
   "source": [
    "## 1999 - 2015 Period"
   ]
  },
  {
   "cell_type": "code",
   "execution_count": 32,
   "metadata": {},
   "outputs": [
    {
     "name": "stdout",
     "output_type": "stream",
     "text": [
      "<class 'pandas.core.frame.DataFrame'>\n",
      "PeriodIndex: 1110 entries, 1926-07 to 2018-12\n",
      "Freq: M\n",
      "Data columns (total 2 columns):\n",
      "small_cap    1110 non-null float64\n",
      "large_cap    1110 non-null float64\n",
      "dtypes: float64(2)\n",
      "memory usage: 26.0 KB\n"
     ]
    }
   ],
   "source": [
    "rets.info()"
   ]
  },
  {
   "cell_type": "code",
   "execution_count": 34,
   "metadata": {},
   "outputs": [
    {
     "name": "stdout",
     "output_type": "stream",
     "text": [
      "<class 'pandas.core.frame.DataFrame'>\n",
      "PeriodIndex: 204 entries, 1999-01 to 2015-12\n",
      "Freq: M\n",
      "Data columns (total 2 columns):\n",
      "small_cap    204 non-null float64\n",
      "large_cap    204 non-null float64\n",
      "dtypes: float64(2)\n",
      "memory usage: 4.8 KB\n"
     ]
    }
   ],
   "source": [
    "period = rets.loc[\"1999\":\"2015\"]\n",
    "period.info()"
   ]
  },
  {
   "cell_type": "markdown",
   "metadata": {},
   "source": [
    "## Period Annualized Returns"
   ]
  },
  {
   "cell_type": "code",
   "execution_count": 35,
   "metadata": {},
   "outputs": [
    {
     "data": {
      "text/plain": [
       "small_cap    11.442634\n",
       "large_cap     6.286512\n",
       "dtype: float64"
      ]
     },
     "execution_count": 35,
     "metadata": {},
     "output_type": "execute_result"
    }
   ],
   "source": [
    "((period + 1).prod()**(12/period.shape[0]) - 1)*100"
   ]
  },
  {
   "cell_type": "markdown",
   "metadata": {},
   "source": [
    "## Period Annualized Volatility"
   ]
  },
  {
   "cell_type": "code",
   "execution_count": 36,
   "metadata": {},
   "outputs": [
    {
     "data": {
      "text/plain": [
       "small_cap    22.889447\n",
       "large_cap    17.271332\n",
       "dtype: float64"
      ]
     },
     "execution_count": 36,
     "metadata": {},
     "output_type": "execute_result"
    }
   ],
   "source": [
    "period.std()*np.sqrt(12)*100"
   ]
  },
  {
   "cell_type": "code",
   "execution_count": 37,
   "metadata": {},
   "outputs": [
    {
     "data": {
      "text/html": [
       "<div>\n",
       "<style scoped>\n",
       "    .dataframe tbody tr th:only-of-type {\n",
       "        vertical-align: middle;\n",
       "    }\n",
       "\n",
       "    .dataframe tbody tr th {\n",
       "        vertical-align: top;\n",
       "    }\n",
       "\n",
       "    .dataframe thead th {\n",
       "        text-align: right;\n",
       "    }\n",
       "</style>\n",
       "<table border=\"1\" class=\"dataframe\">\n",
       "  <thead>\n",
       "    <tr style=\"text-align: right;\">\n",
       "      <th></th>\n",
       "      <th>small_cap</th>\n",
       "      <th>large_cap</th>\n",
       "    </tr>\n",
       "  </thead>\n",
       "  <tbody>\n",
       "    <tr>\n",
       "      <th>1926-07</th>\n",
       "      <td>-0.0057</td>\n",
       "      <td>0.0333</td>\n",
       "    </tr>\n",
       "    <tr>\n",
       "      <th>1926-08</th>\n",
       "      <td>0.0384</td>\n",
       "      <td>0.0233</td>\n",
       "    </tr>\n",
       "    <tr>\n",
       "      <th>1926-09</th>\n",
       "      <td>-0.0048</td>\n",
       "      <td>-0.0009</td>\n",
       "    </tr>\n",
       "    <tr>\n",
       "      <th>1926-10</th>\n",
       "      <td>-0.0329</td>\n",
       "      <td>-0.0295</td>\n",
       "    </tr>\n",
       "    <tr>\n",
       "      <th>1926-11</th>\n",
       "      <td>-0.0055</td>\n",
       "      <td>0.0316</td>\n",
       "    </tr>\n",
       "  </tbody>\n",
       "</table>\n",
       "</div>"
      ],
      "text/plain": [
       "         small_cap  large_cap\n",
       "1926-07    -0.0057     0.0333\n",
       "1926-08     0.0384     0.0233\n",
       "1926-09    -0.0048    -0.0009\n",
       "1926-10    -0.0329    -0.0295\n",
       "1926-11    -0.0055     0.0316"
      ]
     },
     "execution_count": 37,
     "metadata": {},
     "output_type": "execute_result"
    }
   ],
   "source": [
    "rets.head()"
   ]
  },
  {
   "cell_type": "markdown",
   "metadata": {},
   "source": [
    "## Max Drawdown"
   ]
  },
  {
   "cell_type": "code",
   "execution_count": 40,
   "metadata": {},
   "outputs": [
    {
     "data": {
      "text/plain": [
       "62.48092431236988"
      ]
     },
     "execution_count": 40,
     "metadata": {},
     "output_type": "execute_result"
    }
   ],
   "source": [
    "- erk.drawdown_df(period.small_cap).drawdown.min()*100"
   ]
  },
  {
   "cell_type": "code",
   "execution_count": 41,
   "metadata": {},
   "outputs": [
    {
     "data": {
      "text/plain": [
       "Period('2009-02', 'M')"
      ]
     },
     "execution_count": 41,
     "metadata": {},
     "output_type": "execute_result"
    }
   ],
   "source": [
    "erk.drawdown_df(period.small_cap).drawdown.idxmin()"
   ]
  },
  {
   "cell_type": "code",
   "execution_count": 42,
   "metadata": {},
   "outputs": [
    {
     "data": {
      "text/plain": [
       "55.27349978713653"
      ]
     },
     "execution_count": 42,
     "metadata": {},
     "output_type": "execute_result"
    }
   ],
   "source": [
    "- erk.drawdown_df(period.large_cap).drawdown.min()*100"
   ]
  },
  {
   "cell_type": "code",
   "execution_count": 43,
   "metadata": {},
   "outputs": [
    {
     "data": {
      "text/plain": [
       "Period('2009-02', 'M')"
      ]
     },
     "execution_count": 43,
     "metadata": {},
     "output_type": "execute_result"
    }
   ],
   "source": [
    "erk.drawdown_df(period.large_cap).drawdown.idxmin()"
   ]
  },
  {
   "cell_type": "markdown",
   "metadata": {},
   "source": [
    "## Hegde Fund Indices"
   ]
  },
  {
   "cell_type": "code",
   "execution_count": 44,
   "metadata": {},
   "outputs": [],
   "source": [
    "hfi = erk.get_hfi_returns()"
   ]
  },
  {
   "cell_type": "code",
   "execution_count": 45,
   "metadata": {},
   "outputs": [
    {
     "data": {
      "text/html": [
       "<div>\n",
       "<style scoped>\n",
       "    .dataframe tbody tr th:only-of-type {\n",
       "        vertical-align: middle;\n",
       "    }\n",
       "\n",
       "    .dataframe tbody tr th {\n",
       "        vertical-align: top;\n",
       "    }\n",
       "\n",
       "    .dataframe thead th {\n",
       "        text-align: right;\n",
       "    }\n",
       "</style>\n",
       "<table border=\"1\" class=\"dataframe\">\n",
       "  <thead>\n",
       "    <tr style=\"text-align: right;\">\n",
       "      <th></th>\n",
       "      <th>Convertible Arbitrage</th>\n",
       "      <th>CTA Global</th>\n",
       "      <th>Distressed Securities</th>\n",
       "      <th>Emerging Markets</th>\n",
       "      <th>Equity Market Neutral</th>\n",
       "      <th>Event Driven</th>\n",
       "      <th>Fixed Income Arbitrage</th>\n",
       "      <th>Global Macro</th>\n",
       "      <th>Long/Short Equity</th>\n",
       "      <th>Merger Arbitrage</th>\n",
       "      <th>Relative Value</th>\n",
       "      <th>Short Selling</th>\n",
       "      <th>Funds Of Funds</th>\n",
       "    </tr>\n",
       "    <tr>\n",
       "      <th>date</th>\n",
       "      <th></th>\n",
       "      <th></th>\n",
       "      <th></th>\n",
       "      <th></th>\n",
       "      <th></th>\n",
       "      <th></th>\n",
       "      <th></th>\n",
       "      <th></th>\n",
       "      <th></th>\n",
       "      <th></th>\n",
       "      <th></th>\n",
       "      <th></th>\n",
       "      <th></th>\n",
       "    </tr>\n",
       "  </thead>\n",
       "  <tbody>\n",
       "    <tr>\n",
       "      <th>1997-01</th>\n",
       "      <td>0.0119</td>\n",
       "      <td>0.0393</td>\n",
       "      <td>0.0178</td>\n",
       "      <td>0.0791</td>\n",
       "      <td>0.0189</td>\n",
       "      <td>0.0213</td>\n",
       "      <td>0.0191</td>\n",
       "      <td>0.0573</td>\n",
       "      <td>0.0281</td>\n",
       "      <td>0.0150</td>\n",
       "      <td>0.0180</td>\n",
       "      <td>-0.0166</td>\n",
       "      <td>0.0317</td>\n",
       "    </tr>\n",
       "    <tr>\n",
       "      <th>1997-02</th>\n",
       "      <td>0.0123</td>\n",
       "      <td>0.0298</td>\n",
       "      <td>0.0122</td>\n",
       "      <td>0.0525</td>\n",
       "      <td>0.0101</td>\n",
       "      <td>0.0084</td>\n",
       "      <td>0.0122</td>\n",
       "      <td>0.0175</td>\n",
       "      <td>-0.0006</td>\n",
       "      <td>0.0034</td>\n",
       "      <td>0.0118</td>\n",
       "      <td>0.0426</td>\n",
       "      <td>0.0106</td>\n",
       "    </tr>\n",
       "    <tr>\n",
       "      <th>1997-03</th>\n",
       "      <td>0.0078</td>\n",
       "      <td>-0.0021</td>\n",
       "      <td>-0.0012</td>\n",
       "      <td>-0.0120</td>\n",
       "      <td>0.0016</td>\n",
       "      <td>-0.0023</td>\n",
       "      <td>0.0109</td>\n",
       "      <td>-0.0119</td>\n",
       "      <td>-0.0084</td>\n",
       "      <td>0.0060</td>\n",
       "      <td>0.0010</td>\n",
       "      <td>0.0778</td>\n",
       "      <td>-0.0077</td>\n",
       "    </tr>\n",
       "    <tr>\n",
       "      <th>1997-04</th>\n",
       "      <td>0.0086</td>\n",
       "      <td>-0.0170</td>\n",
       "      <td>0.0030</td>\n",
       "      <td>0.0119</td>\n",
       "      <td>0.0119</td>\n",
       "      <td>-0.0005</td>\n",
       "      <td>0.0130</td>\n",
       "      <td>0.0172</td>\n",
       "      <td>0.0084</td>\n",
       "      <td>-0.0001</td>\n",
       "      <td>0.0122</td>\n",
       "      <td>-0.0129</td>\n",
       "      <td>0.0009</td>\n",
       "    </tr>\n",
       "    <tr>\n",
       "      <th>1997-05</th>\n",
       "      <td>0.0156</td>\n",
       "      <td>-0.0015</td>\n",
       "      <td>0.0233</td>\n",
       "      <td>0.0315</td>\n",
       "      <td>0.0189</td>\n",
       "      <td>0.0346</td>\n",
       "      <td>0.0118</td>\n",
       "      <td>0.0108</td>\n",
       "      <td>0.0394</td>\n",
       "      <td>0.0197</td>\n",
       "      <td>0.0173</td>\n",
       "      <td>-0.0737</td>\n",
       "      <td>0.0275</td>\n",
       "    </tr>\n",
       "  </tbody>\n",
       "</table>\n",
       "</div>"
      ],
      "text/plain": [
       "         Convertible Arbitrage  CTA Global  Distressed Securities  \\\n",
       "date                                                                \n",
       "1997-01                 0.0119      0.0393                 0.0178   \n",
       "1997-02                 0.0123      0.0298                 0.0122   \n",
       "1997-03                 0.0078     -0.0021                -0.0012   \n",
       "1997-04                 0.0086     -0.0170                 0.0030   \n",
       "1997-05                 0.0156     -0.0015                 0.0233   \n",
       "\n",
       "         Emerging Markets  Equity Market Neutral  Event Driven  \\\n",
       "date                                                             \n",
       "1997-01            0.0791                 0.0189        0.0213   \n",
       "1997-02            0.0525                 0.0101        0.0084   \n",
       "1997-03           -0.0120                 0.0016       -0.0023   \n",
       "1997-04            0.0119                 0.0119       -0.0005   \n",
       "1997-05            0.0315                 0.0189        0.0346   \n",
       "\n",
       "         Fixed Income Arbitrage  Global Macro  Long/Short Equity  \\\n",
       "date                                                               \n",
       "1997-01                  0.0191        0.0573             0.0281   \n",
       "1997-02                  0.0122        0.0175            -0.0006   \n",
       "1997-03                  0.0109       -0.0119            -0.0084   \n",
       "1997-04                  0.0130        0.0172             0.0084   \n",
       "1997-05                  0.0118        0.0108             0.0394   \n",
       "\n",
       "         Merger Arbitrage  Relative Value  Short Selling  Funds Of Funds  \n",
       "date                                                                      \n",
       "1997-01            0.0150          0.0180        -0.0166          0.0317  \n",
       "1997-02            0.0034          0.0118         0.0426          0.0106  \n",
       "1997-03            0.0060          0.0010         0.0778         -0.0077  \n",
       "1997-04           -0.0001          0.0122        -0.0129          0.0009  \n",
       "1997-05            0.0197          0.0173        -0.0737          0.0275  "
      ]
     },
     "execution_count": 45,
     "metadata": {},
     "output_type": "execute_result"
    }
   ],
   "source": [
    "hfi.head()"
   ]
  },
  {
   "cell_type": "code",
   "execution_count": 46,
   "metadata": {},
   "outputs": [
    {
     "name": "stdout",
     "output_type": "stream",
     "text": [
      "<class 'pandas.core.frame.DataFrame'>\n",
      "PeriodIndex: 263 entries, 1997-01 to 2018-11\n",
      "Freq: M\n",
      "Data columns (total 13 columns):\n",
      "Convertible Arbitrage     263 non-null float64\n",
      "CTA Global                263 non-null float64\n",
      "Distressed Securities     263 non-null float64\n",
      "Emerging Markets          263 non-null float64\n",
      "Equity Market Neutral     263 non-null float64\n",
      "Event Driven              263 non-null float64\n",
      "Fixed Income Arbitrage    263 non-null float64\n",
      "Global Macro              263 non-null float64\n",
      "Long/Short Equity         263 non-null float64\n",
      "Merger Arbitrage          263 non-null float64\n",
      "Relative Value            263 non-null float64\n",
      "Short Selling             263 non-null float64\n",
      "Funds Of Funds            263 non-null float64\n",
      "dtypes: float64(13)\n",
      "memory usage: 28.8 KB\n"
     ]
    }
   ],
   "source": [
    "hfi.info()"
   ]
  },
  {
   "cell_type": "code",
   "execution_count": 47,
   "metadata": {},
   "outputs": [],
   "source": [
    "hfi = hfi.loc[\"2009\":]"
   ]
  },
  {
   "cell_type": "code",
   "execution_count": 48,
   "metadata": {},
   "outputs": [
    {
     "name": "stdout",
     "output_type": "stream",
     "text": [
      "<class 'pandas.core.frame.DataFrame'>\n",
      "PeriodIndex: 119 entries, 2009-01 to 2018-11\n",
      "Freq: M\n",
      "Data columns (total 13 columns):\n",
      "Convertible Arbitrage     119 non-null float64\n",
      "CTA Global                119 non-null float64\n",
      "Distressed Securities     119 non-null float64\n",
      "Emerging Markets          119 non-null float64\n",
      "Equity Market Neutral     119 non-null float64\n",
      "Event Driven              119 non-null float64\n",
      "Fixed Income Arbitrage    119 non-null float64\n",
      "Global Macro              119 non-null float64\n",
      "Long/Short Equity         119 non-null float64\n",
      "Merger Arbitrage          119 non-null float64\n",
      "Relative Value            119 non-null float64\n",
      "Short Selling             119 non-null float64\n",
      "Funds Of Funds            119 non-null float64\n",
      "dtypes: float64(13)\n",
      "memory usage: 13.0 KB\n"
     ]
    }
   ],
   "source": [
    "hfi.info()"
   ]
  },
  {
   "cell_type": "markdown",
   "metadata": {},
   "source": [
    "## Semideviation"
   ]
  },
  {
   "cell_type": "code",
   "execution_count": 53,
   "metadata": {},
   "outputs": [
    {
     "data": {
      "text/plain": [
       "Fixed Income Arbitrage    0.003321\n",
       "Merger Arbitrage          0.003611\n",
       "Global Macro              0.005075\n",
       "Equity Market Neutral     0.005186\n",
       "Relative Value            0.005711\n",
       "Convertible Arbitrage     0.006681\n",
       "Funds Of Funds            0.007948\n",
       "Distressed Securities     0.009498\n",
       "Event Driven              0.010135\n",
       "CTA Global                0.010996\n",
       "Long/Short Equity         0.012139\n",
       "Emerging Markets          0.015276\n",
       "Short Selling             0.021240\n",
       "dtype: float64"
      ]
     },
     "execution_count": 53,
     "metadata": {},
     "output_type": "execute_result"
    }
   ],
   "source": [
    "hfi[hfi<0].std(ddof=0).sort_values()"
   ]
  },
  {
   "cell_type": "markdown",
   "metadata": {},
   "source": [
    "## Skewness"
   ]
  },
  {
   "cell_type": "code",
   "execution_count": 49,
   "metadata": {},
   "outputs": [
    {
     "data": {
      "text/plain": [
       "Equity Market Neutral    -0.896327\n",
       "Funds Of Funds           -0.646908\n",
       "Merger Arbitrage         -0.551065\n",
       "Event Driven             -0.488821\n",
       "Long/Short Equity        -0.463703\n",
       "Distressed Securities    -0.254944\n",
       "Emerging Markets          0.033123\n",
       "CTA Global                0.052062\n",
       "Relative Value            0.159953\n",
       "Global Macro              0.348184\n",
       "Short Selling             0.456518\n",
       "Fixed Income Arbitrage    1.121453\n",
       "Convertible Arbitrage     1.305911\n",
       "dtype: float64"
      ]
     },
     "execution_count": 49,
     "metadata": {},
     "output_type": "execute_result"
    }
   ],
   "source": [
    "erk.skewness(hfi).sort_values()"
   ]
  },
  {
   "cell_type": "markdown",
   "metadata": {},
   "source": [
    "## Kurtosis"
   ]
  },
  {
   "cell_type": "code",
   "execution_count": 50,
   "metadata": {},
   "outputs": [
    {
     "data": {
      "text/plain": [
       "CTA Global                2.591087\n",
       "Merger Arbitrage          2.715238\n",
       "Global Macro              3.164362\n",
       "Distressed Securities     3.319725\n",
       "Event Driven              3.620617\n",
       "Funds Of Funds            3.816132\n",
       "Long/Short Equity         4.115713\n",
       "Short Selling             4.175832\n",
       "Emerging Markets          4.401636\n",
       "Relative Value            4.512482\n",
       "Equity Market Neutral     5.071677\n",
       "Fixed Income Arbitrage    6.406941\n",
       "Convertible Arbitrage     6.775731\n",
       "dtype: float64"
      ]
     },
     "execution_count": 50,
     "metadata": {},
     "output_type": "execute_result"
    }
   ],
   "source": [
    "erk.kurtosis(hfi).sort_values()"
   ]
  },
  {
   "cell_type": "code",
   "execution_count": null,
   "metadata": {},
   "outputs": [],
   "source": []
  }
 ],
 "metadata": {
  "kernelspec": {
   "display_name": "Python 3",
   "language": "python",
   "name": "python3"
  },
  "language_info": {
   "codemirror_mode": {
    "name": "ipython",
    "version": 3
   },
   "file_extension": ".py",
   "mimetype": "text/x-python",
   "name": "python",
   "nbconvert_exporter": "python",
   "pygments_lexer": "ipython3",
   "version": "3.7.5"
  }
 },
 "nbformat": 4,
 "nbformat_minor": 4
}
