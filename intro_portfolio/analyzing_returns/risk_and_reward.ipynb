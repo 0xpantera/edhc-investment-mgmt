{
 "cells": [
  {
   "cell_type": "markdown",
   "metadata": {},
   "source": [
    "# Measures of Risk and Reward"
   ]
  },
  {
   "cell_type": "markdown",
   "metadata": {},
   "source": [
    "## Volatility - Standard Deviation and Variance"
   ]
  },
  {
   "cell_type": "markdown",
   "metadata": {},
   "source": [
    "* They both have the same mean, but the blue series is much less volatile than the orange series.\n",
    "    * Meaning that the the volatile series are deviating away from the mean more often and more significantly than the others.\n",
    "* How do we formalize this?\n",
    "\n",
    "* We compute the **average of the square** of the deviations from the mean\n",
    "    * This measure is called **variance** and is computed as follows\n",
    "    * $\\sigma^{2}_{R} = \\frac{1}{N}\\sum_{i=1}^{N}(R_i - \\hat{R})^2$\n",
    "    * Where $\\hat{R}$ is the **Arithmetic Mean** of the **returns**\n",
    "* The variance is **really** the average of the **squares** of the returns and so it makes it hard to compare with the returns itself\n",
    "* Instead we will take the square root of the variance, because that's comparable with the returns themselves.\n",
    "    * This is the measure of volatility\n",
    "    * This measure is called **standard deviation** and is computed as follows:\n",
    "    * $\\sigma_R = \\sqrt{\\frac{1}{N} \\sum_{i=1}^{N}(R_i - \\hat{R})^2}$\n",
    "    * Where $\\hat{R} is the **Arithmetic Mean** of the returns"
   ]
  },
  {
   "cell_type": "markdown",
   "metadata": {},
   "source": [
    "## Annualizing Volatility"
   ]
  },
  {
   "cell_type": "markdown",
   "metadata": {},
   "source": [
    "* We **can't compare** the volatility from daily data with the volatility from monthly data\n",
    "    * We need to annualize it\n",
    "* If you've got returns that were calculated with daily data, you're going to see a lot more variation\n",
    "    * because you're going to have more data points.\n",
    "    * when looking over a month you won't see all those intermediate data points.\n",
    "* The way you annualize volatility:\n",
    "    * You multiply the volatility that you get from the daily data by the number of days per year.\n",
    "    * **REMEMBER** For us the number of days per year is 252 (**trading days**) not 365.\n",
    "    * $\\sigma_{ann} = \\sigma_p \\sqrt{p}$"
   ]
  },
  {
   "cell_type": "markdown",
   "metadata": {},
   "source": [
    "**EXAMPLE**\n",
    "\n",
    "The standard deviation of a stock's daily return series is 0.1%\n",
    "\n",
    "To annualize it:\n",
    "* $.001 x \\sqrt{252} = 1.58\\%$\n",
    "\n",
    "If this were instead monthly data:\n",
    "* $.01 x \\sqrt{12} = 3.45\\%$"
   ]
  },
  {
   "cell_type": "markdown",
   "metadata": {},
   "source": [
    "**Q1**\n",
    "\n",
    "The annualized volatility is always greater than the monthly volatility.\n",
    "* True\n",
    "    * Since you are multiplying the monthly volatility by the square root of 12, the result will always be greater than the monthly volatility."
   ]
  },
  {
   "cell_type": "markdown",
   "metadata": {},
   "source": [
    "## Risk and Adjusted Measures"
   ]
  },
  {
   "cell_type": "markdown",
   "metadata": {},
   "source": [
    "* Now we know how to compute returns and how to compute risk\n",
    "* We can look at a method to compare the returns that have different risk"
   ]
  },
  {
   "cell_type": "markdown",
   "metadata": {},
   "source": [
    "![Portfolio Annualized Return Volatility](./images/ann_return_volatility.png)"
   ]
  },
  {
   "cell_type": "markdown",
   "metadata": {},
   "source": [
    "* Returns for small stocks were much more volatile than the returns of large stocks\n",
    "    * small cap has greater return but more volatile\n",
    "    * large cap has smaller return but less volatile\n",
    "* How do we compare these two?\n",
    "    * One way of thinking about it is to compute the ratio: how much return did I get per unit of risk?\n",
    "        * This is called a **return on risk ratio**\n",
    "        * Small caps gave you 0.47 and large caps 0.50\n",
    "        * it might suggest that even though large caps gave you lower returns they actually have you a better return per unit of volatility\n",
    "    * To get an even better picture you can make an adjustment:\n",
    "        * You shouldn't just look at the return.\n",
    "        * You should look at the excess return per unit of volatility over what I could have got with no volatility\n",
    "        * And what you can get with no volatility is what we call the **risk free rate**.\n",
    "        * The risk free rate is basically the return that you would get with virtually zero risk\n",
    "        * RETURN ON RISK RATIO $= \\frac{return}{volatility}$\n",
    "        * SHARPE RATIO $ = \\frac{RETURN \\, MINUS \\, RISK \\, FREE \\, RATE}{VOLATILITY}$\n",
    "\n",
    "EXCESS RETURN\n",
    "    =\n",
    "RETURN OVER THE RISK FREE RATE\n",
    "    =\n",
    "RETURN MINUS RISK FREE RATE\n",
    "\n",
    "\n",
    "$$Sharpe \\, Ratio(P) = \\frac{R_p - R_f}{\\sigma_p}$$\n",
    "\n",
    "* Once you adjust for the risk free rate:\n",
    "    * **Small cap stocks** did in fact provide better risk adjusted returns than **Large cap stocks** over this period\n",
    "\n",
    "**Portfolio Sharpe Ratio $(R_f = 3\\%)$**\n",
    "\n",
    "Small Cap (17.2% - 3%) / 36.8% = 0.39\n",
    "\n",
    "Large Cap (9.5% - 3%) / 18.7% = 0.35"
   ]
  },
  {
   "cell_type": "markdown",
   "metadata": {},
   "source": [
    "**Q2**\n",
    "\n",
    "The risk free rate is the return of an investment that carries:\n",
    "* No risk\n",
    "    * Although there is no perfectly riskless investment, the very short term US Treasury Bill (30 days or less) is typically used as a proxy for the risk free rate"
   ]
  },
  {
   "cell_type": "markdown",
   "metadata": {},
   "source": [
    "**Q3**\n",
    "\n",
    "If the risk free rate goes up and the return and volatility of a portfolio are unchanged, what happens to the Sharpe Ratio?\n",
    "* Goes down\n",
    "    * Sinc eht risk free rate is subtracted from the numerator, and the denominator is unchanged, the Sharpe Ratio goes down."
   ]
  },
  {
   "cell_type": "code",
   "execution_count": null,
   "metadata": {},
   "outputs": [],
   "source": []
  }
 ],
 "metadata": {
  "kernelspec": {
   "display_name": "Python 3",
   "language": "python",
   "name": "python3"
  },
  "language_info": {
   "codemirror_mode": {
    "name": "ipython",
    "version": 3
   },
   "file_extension": ".py",
   "mimetype": "text/x-python",
   "name": "python",
   "nbconvert_exporter": "python",
   "pygments_lexer": "ipython3",
   "version": "3.7.4"
  }
 },
 "nbformat": 4,
 "nbformat_minor": 4
}
