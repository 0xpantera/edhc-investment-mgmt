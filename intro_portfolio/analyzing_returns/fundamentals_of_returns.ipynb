{
 "cells": [
  {
   "cell_type": "markdown",
   "metadata": {},
   "source": [
    "# Fundamentals of Returns"
   ]
  },
  {
   "cell_type": "markdown",
   "metadata": {},
   "source": [
    "* What exactly is a return?\n",
    "* How do we characterize a return?"
   ]
  },
  {
   "cell_type": "markdown",
   "metadata": {},
   "source": [
    "### Return and Risk"
   ]
  },
  {
   "cell_type": "markdown",
   "metadata": {},
   "source": [
    "[return and risk](images/Selection_064.png)"
   ]
  },
  {
   "cell_type": "markdown",
   "metadata": {},
   "source": [
    "* This is a set of 12 monthly returns of two assets\n",
    "    * blue asset: less volatile\n",
    "    * orange asset: more volatile\n",
    "* Average return of 1% for both assets\n",
    "* One is clearly more volatile than the other\n",
    "    * average returns are not a good way to look at how an asset behaves\n",
    "    * the avg return can be misleading."
   ]
  },
  {
   "cell_type": "markdown",
   "metadata": {},
   "source": [
    "[growth](images/growth.png)"
   ]
  },
  {
   "cell_type": "markdown",
   "metadata": {},
   "source": [
    "* One way to try to understand the difference:\n",
    "    * What would happen if you invested in these two assets\n",
    "* Just because the avg return is the same doesn't mean you are going to end with the same amount of money\n",
    "* How do you characterize returns?\n",
    "* What is a good way of thinking about what the returns of an asset are?"
   ]
  },
  {
   "cell_type": "markdown",
   "metadata": {},
   "source": [
    "### From Prices to Returns"
   ]
  },
  {
   "cell_type": "markdown",
   "metadata": {},
   "source": [
    "Return: The profit you make if you had bought that asset"
   ]
  },
  {
   "cell_type": "markdown",
   "metadata": {},
   "source": [
    "$$R_{t,t+1} = \\frac{P_{t+1} - P_t}{P_t}$$"
   ]
  },
  {
   "cell_type": "markdown",
   "metadata": {},
   "source": [
    "**Example**\n",
    "\n",
    "If you buy a stock at \\\\$10 and sell it at \\\\$12\n",
    "\n",
    "$$\\frac{12-10}{10} = \\frac{2}{10} = 0.2 = 20%$$\n",
    "\n",
    "* $12 - 10$ is your profit\n",
    "* divided by your cost $10$"
   ]
  },
  {
   "cell_type": "markdown",
   "metadata": {},
   "source": [
    "**Start thinking about it in this format**\n",
    "\n",
    "* Think of it as a ratrio of $P_{t+1}$ to $P_{t}$\n",
    "* In this example the ratio would be $\\frac{12}{10}$ which is $1.2$\n",
    "* When doing computations it's valuable and convenient to look at this in terms of 1 plus R"
   ]
  },
  {
   "cell_type": "markdown",
   "metadata": {},
   "source": [
    "**What happens with dividends**\n",
    "\n",
    "* Let's say that over this intervening period of $P_{t+1} + P_t$ there was some dividend that the stock generated.\n",
    "* You have to remember to add that back to $P_{t+1}$ because at time $t+1$ you have:\n",
    "    * the current price of the stock\n",
    "    * the money that you got as a dividend\n",
    "    * $$R_{t,t+1} = \\frac{P_{t+1} + D_{t,t+1}}{P_t} - 1 = \\frac{P_{t+1} + D_{t,t+1} - P_t}{P_t}$$\n",
    "* If you don't make that adjustment the return is sometimes called price return, particularly when it comes to stock market indices.\n",
    "* Always remember to add the dividends back\n",
    "    * this is what is called the total return.\n",
    "* For purposes of computing returns, of doing performance analysis, you almost always want to use the total return, not the price return."
   ]
  },
  {
   "cell_type": "markdown",
   "metadata": {},
   "source": [
    "### Q1\n",
    "\n",
    "How often would you expect that the **total return** of a typical stock market indeex portfolio is greater thant the **price return** of that same porfolio over a month?\n",
    "\n",
    "* Almost always\n",
    "    * The difference between the total return and the price return is the contribution of dividends. Most stock market index portfolios will contain stocks that generate dividends from time to time. Therefore, total returns over a period will almost always exceed the price returns."
   ]
  },
  {
   "cell_type": "markdown",
   "metadata": {},
   "source": [
    "### Multi Period Returns"
   ]
  },
  {
   "cell_type": "markdown",
   "metadata": {},
   "source": [
    "[multi period](images/multi_period.png)"
   ]
  },
  {
   "cell_type": "markdown",
   "metadata": {},
   "source": [
    "$$R_{t,t+2} = (1 + R_{t,t+1})(1 + R_{t+1,t+2}) - 1$$"
   ]
  },
  {
   "cell_type": "markdown",
   "metadata": {},
   "source": [
    "* If you have:\n",
    "    * $R_1$ as the return between $T_0$ to $T_1$\n",
    "    * $R_2$ as the return between $T_1$ to $T_2$\n",
    "* Very easy to look at the compounded return in terms of $1 + R$ format\n",
    "* Multiply the returns, so:\n",
    "    * $(1+R_1) x (1+R_2)$\n",
    "    * That gives you the compounded return over that period, also in $1+R$ format\n",
    "    * Just remember to subtract 1\n",
    "* In general if you're trying to compound over 2 periods look at formula above"
   ]
  },
  {
   "cell_type": "markdown",
   "metadata": {},
   "source": [
    "**Example**\n",
    "\n",
    "* You **buy a stock** that returns 10% on the first day then returns -3% on the second day\n",
    "* You should be thinking of 1.1 and .97\n",
    "\n",
    "$$(1 + .10)(1 - .03) - 1 = 0.0067 = 6.70%$$\n",
    "\n",
    "* You have to multiply the $1 + R$ in each period\n",
    "* The result you get is the compounded return in $1 + R$ format\n",
    "* Subtact 1 and you get the return"
   ]
  },
  {
   "cell_type": "markdown",
   "metadata": {},
   "source": [
    "### Q2\n",
    "\n",
    "You buy a stock at the closing price on Monday. On Tuesday, the stock closes at 10% above Monday's closing price. On Wednesday, it falls and closes at 10% below Tuesday’s closing price and you sell it at that closing price. DId you have a negative, positive or zero return?\n",
    "\n",
    "* Negative\n",
    "    * The return is $(1 + 0.1)(1 - 0.1) - 1 = -0.01$\n",
    "    * a loss of 1%"
   ]
  },
  {
   "cell_type": "markdown",
   "metadata": {},
   "source": [
    "### Annualizing returns\n",
    "\n",
    "* How do you compare returns across different periods of time?\n",
    "* e.i. monthly return vs. quarterly return"
   ]
  },
  {
   "cell_type": "markdown",
   "metadata": {},
   "source": [
    "* Annualization: the return you would get if the return that your'e looking at had continued for a year.\n",
    "\n",
    "The **Return** over the month is 1% what is the annualized return?\n",
    "\n",
    "$$((1 + 0.01)^{12} - 1) = 12.68\\%$$"
   ]
  },
  {
   "cell_type": "markdown",
   "metadata": {},
   "source": [
    "### Q3\n",
    "\n",
    "A stock gains 1% over a quarter (i.e. a 3 month period). What is it’s annualized return?\n",
    "\n",
    "* 4.06%\n",
    "    * The return is $(1 + 0.4)^4 - 1$ since there are 4 quarters in a year"
   ]
  }
 ],
 "metadata": {
  "kernelspec": {
   "display_name": "Python 3",
   "language": "python",
   "name": "python3"
  },
  "language_info": {
   "codemirror_mode": {
    "name": "ipython",
    "version": 3
   },
   "file_extension": ".py",
   "mimetype": "text/x-python",
   "name": "python",
   "nbconvert_exporter": "python",
   "pygments_lexer": "ipython3",
   "version": "3.7.4"
  }
 },
 "nbformat": 4,
 "nbformat_minor": 4
}
