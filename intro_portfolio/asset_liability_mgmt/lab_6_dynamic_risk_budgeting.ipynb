{
 "cells": [
  {
   "cell_type": "markdown",
   "metadata": {},
   "source": [
    "# Dynamic Risk Budgeting"
   ]
  },
  {
   "cell_type": "code",
   "execution_count": 1,
   "metadata": {},
   "outputs": [],
   "source": [
    "%load_ext autoreload\n",
    "%autoreload 2\n",
    "\n",
    "import pandas as pd\n",
    "import matplotlib.pyplot as plt\n",
    "import numpy as np\n",
    "import seaborn as sns\n",
    "\n",
    "import edhec_risk_kit as erk"
   ]
  },
  {
   "cell_type": "code",
   "execution_count": 3,
   "metadata": {},
   "outputs": [],
   "source": [
    "n_scenarios = 5000\n",
    "rates, zc_prices = erk.cir(10, n_scenarios=n_scenarios, b=0.03, r_0=0.03, sigma=0.02)\n",
    "prices_eq = erk.gbm(n_years=10, n_scenarios=n_scenarios, mu=0.07, sigma=0.15)"
   ]
  },
  {
   "cell_type": "code",
   "execution_count": 4,
   "metadata": {},
   "outputs": [
    {
     "data": {
      "text/html": [
       "<div>\n",
       "<style scoped>\n",
       "    .dataframe tbody tr th:only-of-type {\n",
       "        vertical-align: middle;\n",
       "    }\n",
       "\n",
       "    .dataframe tbody tr th {\n",
       "        vertical-align: top;\n",
       "    }\n",
       "\n",
       "    .dataframe thead th {\n",
       "        text-align: right;\n",
       "    }\n",
       "</style>\n",
       "<table border=\"1\" class=\"dataframe\">\n",
       "  <thead>\n",
       "    <tr style=\"text-align: right;\">\n",
       "      <th></th>\n",
       "      <th>ZC</th>\n",
       "      <th>Eq</th>\n",
       "      <th>70/30</th>\n",
       "    </tr>\n",
       "  </thead>\n",
       "  <tbody>\n",
       "    <tr>\n",
       "      <th>mean</th>\n",
       "      <td>1.34</td>\n",
       "      <td>1.94</td>\n",
       "      <td>1.74</td>\n",
       "    </tr>\n",
       "    <tr>\n",
       "      <th>std</th>\n",
       "      <td>0.00</td>\n",
       "      <td>0.97</td>\n",
       "      <td>0.59</td>\n",
       "    </tr>\n",
       "    <tr>\n",
       "      <th>p_breach</th>\n",
       "      <td>NaN</td>\n",
       "      <td>0.03</td>\n",
       "      <td>0.01</td>\n",
       "    </tr>\n",
       "    <tr>\n",
       "      <th>e_short</th>\n",
       "      <td>NaN</td>\n",
       "      <td>0.12</td>\n",
       "      <td>0.08</td>\n",
       "    </tr>\n",
       "    <tr>\n",
       "      <th>p_reach</th>\n",
       "      <td>NaN</td>\n",
       "      <td>NaN</td>\n",
       "      <td>NaN</td>\n",
       "    </tr>\n",
       "    <tr>\n",
       "      <th>e_surplus</th>\n",
       "      <td>NaN</td>\n",
       "      <td>NaN</td>\n",
       "      <td>NaN</td>\n",
       "    </tr>\n",
       "  </tbody>\n",
       "</table>\n",
       "</div>"
      ],
      "text/plain": [
       "             ZC    Eq  70/30\n",
       "mean       1.34  1.94   1.74\n",
       "std        0.00  0.97   0.59\n",
       "p_breach    NaN  0.03   0.01\n",
       "e_short     NaN  0.12   0.08\n",
       "p_reach     NaN   NaN    NaN\n",
       "e_surplus   NaN   NaN    NaN"
      ]
     },
     "execution_count": 4,
     "metadata": {},
     "output_type": "execute_result"
    }
   ],
   "source": [
    "rets_eq = prices_eq.pct_change().dropna()\n",
    "rets_zc = zc_prices.pct_change().dropna()\n",
    "rets_7030b = erk.bt_mix(rets_eq, rets_zc, allocator=erk.fixed_mix_allocator, w1=0.7)\n",
    "\n",
    "pd.concat([\n",
    "    erk.terminal_stats(rets_zc, name=\"ZC\", floor=0.75),\n",
    "    erk.terminal_stats(rets_eq, name=\"Eq\", floor=0.75),\n",
    "    erk.terminal_stats(rets_7030b, name=\"70/30\", floor=0.75)\n",
    "], axis=1).round(2)"
   ]
  },
  {
   "cell_type": "markdown",
   "metadata": {},
   "source": [
    "We are going to fix the breaches.\n",
    "\n",
    "The breaches are happening because my allocator is blind to the floor (0.75). So it will not be able to meet the requirement that I should have at least 0.75 cents on the dollar at the end of the 10 years."
   ]
  },
  {
   "cell_type": "code",
   "execution_count": 9,
   "metadata": {},
   "outputs": [
    {
     "data": {
      "text/plain": [
       "array([3, 3, 3, 3, 3, 3, 3, 3, 3, 3])"
      ]
     },
     "execution_count": 9,
     "metadata": {},
     "output_type": "execute_result"
    }
   ],
   "source": [
    "np.repeat((3,3), 5)"
   ]
  },
  {
   "cell_type": "code",
   "execution_count": 10,
   "metadata": {},
   "outputs": [
    {
     "data": {
      "text/html": [
       "<div>\n",
       "<style scoped>\n",
       "    .dataframe tbody tr th:only-of-type {\n",
       "        vertical-align: middle;\n",
       "    }\n",
       "\n",
       "    .dataframe tbody tr th {\n",
       "        vertical-align: top;\n",
       "    }\n",
       "\n",
       "    .dataframe thead th {\n",
       "        text-align: right;\n",
       "    }\n",
       "</style>\n",
       "<table border=\"1\" class=\"dataframe\">\n",
       "  <thead>\n",
       "    <tr style=\"text-align: right;\">\n",
       "      <th></th>\n",
       "      <th>ZC</th>\n",
       "      <th>Eq</th>\n",
       "      <th>70/30</th>\n",
       "      <th>Floort75</th>\n",
       "    </tr>\n",
       "  </thead>\n",
       "  <tbody>\n",
       "    <tr>\n",
       "      <th>mean</th>\n",
       "      <td>1.34</td>\n",
       "      <td>1.94</td>\n",
       "      <td>1.74</td>\n",
       "      <td>1.92</td>\n",
       "    </tr>\n",
       "    <tr>\n",
       "      <th>std</th>\n",
       "      <td>0.00</td>\n",
       "      <td>0.97</td>\n",
       "      <td>0.59</td>\n",
       "      <td>0.97</td>\n",
       "    </tr>\n",
       "    <tr>\n",
       "      <th>p_breach</th>\n",
       "      <td>NaN</td>\n",
       "      <td>0.03</td>\n",
       "      <td>0.01</td>\n",
       "      <td>NaN</td>\n",
       "    </tr>\n",
       "    <tr>\n",
       "      <th>e_short</th>\n",
       "      <td>NaN</td>\n",
       "      <td>0.12</td>\n",
       "      <td>0.08</td>\n",
       "      <td>NaN</td>\n",
       "    </tr>\n",
       "    <tr>\n",
       "      <th>p_reach</th>\n",
       "      <td>NaN</td>\n",
       "      <td>NaN</td>\n",
       "      <td>NaN</td>\n",
       "      <td>NaN</td>\n",
       "    </tr>\n",
       "    <tr>\n",
       "      <th>e_surplus</th>\n",
       "      <td>NaN</td>\n",
       "      <td>NaN</td>\n",
       "      <td>NaN</td>\n",
       "      <td>NaN</td>\n",
       "    </tr>\n",
       "  </tbody>\n",
       "</table>\n",
       "</div>"
      ],
      "text/plain": [
       "             ZC    Eq  70/30  Floort75\n",
       "mean       1.34  1.94   1.74      1.92\n",
       "std        0.00  0.97   0.59      0.97\n",
       "p_breach    NaN  0.03   0.01       NaN\n",
       "e_short     NaN  0.12   0.08       NaN\n",
       "p_reach     NaN   NaN    NaN       NaN\n",
       "e_surplus   NaN   NaN    NaN       NaN"
      ]
     },
     "execution_count": 10,
     "metadata": {},
     "output_type": "execute_result"
    }
   ],
   "source": [
    "rets_floor75 = erk.bt_mix(rets_eq, rets_zc,\n",
    "                          allocator=erk.floor_allocator, floor=0.75,\n",
    "                          zc_prices=zc_prices[1:])\n",
    "\n",
    "pd.concat([\n",
    "    erk.terminal_stats(rets_zc, name=\"ZC\", floor=0.75),\n",
    "    erk.terminal_stats(rets_eq, name=\"Eq\", floor=0.75),\n",
    "    erk.terminal_stats(rets_7030b, name=\"70/30\", floor=0.75),\n",
    "    erk.terminal_stats(rets_floor75, name=\"Floort75\", floor=0.75)\n",
    "], axis=1).round(2)"
   ]
  },
  {
   "cell_type": "code",
   "execution_count": 13,
   "metadata": {},
   "outputs": [
    {
     "data": {
      "text/html": [
       "<div>\n",
       "<style scoped>\n",
       "    .dataframe tbody tr th:only-of-type {\n",
       "        vertical-align: middle;\n",
       "    }\n",
       "\n",
       "    .dataframe tbody tr th {\n",
       "        vertical-align: top;\n",
       "    }\n",
       "\n",
       "    .dataframe thead th {\n",
       "        text-align: right;\n",
       "    }\n",
       "</style>\n",
       "<table border=\"1\" class=\"dataframe\">\n",
       "  <thead>\n",
       "    <tr style=\"text-align: right;\">\n",
       "      <th></th>\n",
       "      <th>ZC</th>\n",
       "      <th>Eq</th>\n",
       "      <th>70/30</th>\n",
       "      <th>Floort75</th>\n",
       "      <th>Floort75m1</th>\n",
       "      <th>Floort75m5</th>\n",
       "    </tr>\n",
       "  </thead>\n",
       "  <tbody>\n",
       "    <tr>\n",
       "      <th>mean</th>\n",
       "      <td>1.3433</td>\n",
       "      <td>1.9421</td>\n",
       "      <td>1.7402</td>\n",
       "      <td>1.9171</td>\n",
       "      <td>1.6097</td>\n",
       "      <td>1.9273</td>\n",
       "    </tr>\n",
       "    <tr>\n",
       "      <th>std</th>\n",
       "      <td>0.0000</td>\n",
       "      <td>0.9680</td>\n",
       "      <td>0.5874</td>\n",
       "      <td>0.9732</td>\n",
       "      <td>0.4271</td>\n",
       "      <td>0.9769</td>\n",
       "    </tr>\n",
       "    <tr>\n",
       "      <th>p_breach</th>\n",
       "      <td>NaN</td>\n",
       "      <td>0.0330</td>\n",
       "      <td>0.0066</td>\n",
       "      <td>NaN</td>\n",
       "      <td>NaN</td>\n",
       "      <td>NaN</td>\n",
       "    </tr>\n",
       "    <tr>\n",
       "      <th>e_short</th>\n",
       "      <td>NaN</td>\n",
       "      <td>0.1161</td>\n",
       "      <td>0.0844</td>\n",
       "      <td>NaN</td>\n",
       "      <td>NaN</td>\n",
       "      <td>NaN</td>\n",
       "    </tr>\n",
       "    <tr>\n",
       "      <th>p_reach</th>\n",
       "      <td>NaN</td>\n",
       "      <td>NaN</td>\n",
       "      <td>NaN</td>\n",
       "      <td>NaN</td>\n",
       "      <td>NaN</td>\n",
       "      <td>NaN</td>\n",
       "    </tr>\n",
       "    <tr>\n",
       "      <th>e_surplus</th>\n",
       "      <td>NaN</td>\n",
       "      <td>NaN</td>\n",
       "      <td>NaN</td>\n",
       "      <td>NaN</td>\n",
       "      <td>NaN</td>\n",
       "      <td>NaN</td>\n",
       "    </tr>\n",
       "  </tbody>\n",
       "</table>\n",
       "</div>"
      ],
      "text/plain": [
       "               ZC      Eq   70/30  Floort75  Floort75m1  Floort75m5\n",
       "mean       1.3433  1.9421  1.7402    1.9171      1.6097      1.9273\n",
       "std        0.0000  0.9680  0.5874    0.9732      0.4271      0.9769\n",
       "p_breach      NaN  0.0330  0.0066       NaN         NaN         NaN\n",
       "e_short       NaN  0.1161  0.0844       NaN         NaN         NaN\n",
       "p_reach       NaN     NaN     NaN       NaN         NaN         NaN\n",
       "e_surplus     NaN     NaN     NaN       NaN         NaN         NaN"
      ]
     },
     "execution_count": 13,
     "metadata": {},
     "output_type": "execute_result"
    }
   ],
   "source": [
    "rets_floor75m1 = erk.bt_mix(rets_eq, rets_zc,\n",
    "                          allocator=erk.floor_allocator, \n",
    "                          floor=0.75,\n",
    "                          zc_prices=zc_prices[1:], m=1)\n",
    "rets_floot75m5 = erk.bt_mix(rets_eq, rets_zc,\n",
    "                          allocator=erk.floor_allocator, \n",
    "                          floor=0.75,\n",
    "                          zc_prices=zc_prices[1:], m=5)\n",
    "\n",
    "pd.concat([\n",
    "    erk.terminal_stats(rets_zc, name=\"ZC\", floor=0.75),\n",
    "    erk.terminal_stats(rets_eq, name=\"Eq\", floor=0.75),\n",
    "    erk.terminal_stats(rets_7030b, name=\"70/30\", floor=0.75),\n",
    "    erk.terminal_stats(rets_floot75, name=\"Floort75\", floor=0.75),\n",
    "    erk.terminal_stats(rets_floor75m1, name=\"Floort75m1\", floor=0.75),\n",
    "    erk.terminal_stats(rets_floot75m5, name=\"Floort75m5\", floor=0.75)\n",
    "], axis=1).round(4)"
   ]
  },
  {
   "cell_type": "markdown",
   "metadata": {},
   "source": [
    "# Risk Budgeting with Drawdown Constraints"
   ]
  },
  {
   "cell_type": "code",
   "execution_count": 14,
   "metadata": {},
   "outputs": [
    {
     "data": {
      "text/html": [
       "<div>\n",
       "<style scoped>\n",
       "    .dataframe tbody tr th:only-of-type {\n",
       "        vertical-align: middle;\n",
       "    }\n",
       "\n",
       "    .dataframe tbody tr th {\n",
       "        vertical-align: top;\n",
       "    }\n",
       "\n",
       "    .dataframe thead th {\n",
       "        text-align: right;\n",
       "    }\n",
       "</style>\n",
       "<table border=\"1\" class=\"dataframe\">\n",
       "  <thead>\n",
       "    <tr style=\"text-align: right;\">\n",
       "      <th></th>\n",
       "      <th>ZC</th>\n",
       "      <th>Eq</th>\n",
       "      <th>70/30</th>\n",
       "      <th>Floort75</th>\n",
       "      <th>Floort75m1</th>\n",
       "      <th>Floort75m5</th>\n",
       "      <th>MaxDD25</th>\n",
       "    </tr>\n",
       "  </thead>\n",
       "  <tbody>\n",
       "    <tr>\n",
       "      <th>mean</th>\n",
       "      <td>1.3433</td>\n",
       "      <td>1.9421</td>\n",
       "      <td>1.7402</td>\n",
       "      <td>1.9171</td>\n",
       "      <td>1.6097</td>\n",
       "      <td>1.9273</td>\n",
       "      <td>1.6115</td>\n",
       "    </tr>\n",
       "    <tr>\n",
       "      <th>std</th>\n",
       "      <td>0.0000</td>\n",
       "      <td>0.9680</td>\n",
       "      <td>0.5874</td>\n",
       "      <td>0.9732</td>\n",
       "      <td>0.4271</td>\n",
       "      <td>0.9769</td>\n",
       "      <td>0.5331</td>\n",
       "    </tr>\n",
       "    <tr>\n",
       "      <th>p_breach</th>\n",
       "      <td>NaN</td>\n",
       "      <td>0.0330</td>\n",
       "      <td>0.0066</td>\n",
       "      <td>NaN</td>\n",
       "      <td>NaN</td>\n",
       "      <td>NaN</td>\n",
       "      <td>NaN</td>\n",
       "    </tr>\n",
       "    <tr>\n",
       "      <th>e_short</th>\n",
       "      <td>NaN</td>\n",
       "      <td>0.1161</td>\n",
       "      <td>0.0844</td>\n",
       "      <td>NaN</td>\n",
       "      <td>NaN</td>\n",
       "      <td>NaN</td>\n",
       "      <td>NaN</td>\n",
       "    </tr>\n",
       "    <tr>\n",
       "      <th>p_reach</th>\n",
       "      <td>NaN</td>\n",
       "      <td>NaN</td>\n",
       "      <td>NaN</td>\n",
       "      <td>NaN</td>\n",
       "      <td>NaN</td>\n",
       "      <td>NaN</td>\n",
       "      <td>NaN</td>\n",
       "    </tr>\n",
       "    <tr>\n",
       "      <th>e_surplus</th>\n",
       "      <td>NaN</td>\n",
       "      <td>NaN</td>\n",
       "      <td>NaN</td>\n",
       "      <td>NaN</td>\n",
       "      <td>NaN</td>\n",
       "      <td>NaN</td>\n",
       "      <td>NaN</td>\n",
       "    </tr>\n",
       "  </tbody>\n",
       "</table>\n",
       "</div>"
      ],
      "text/plain": [
       "               ZC      Eq   70/30  Floort75  Floort75m1  Floort75m5  MaxDD25\n",
       "mean       1.3433  1.9421  1.7402    1.9171      1.6097      1.9273   1.6115\n",
       "std        0.0000  0.9680  0.5874    0.9732      0.4271      0.9769   0.5331\n",
       "p_breach      NaN  0.0330  0.0066       NaN         NaN         NaN      NaN\n",
       "e_short       NaN  0.1161  0.0844       NaN         NaN         NaN      NaN\n",
       "p_reach       NaN     NaN     NaN       NaN         NaN         NaN      NaN\n",
       "e_surplus     NaN     NaN     NaN       NaN         NaN         NaN      NaN"
      ]
     },
     "execution_count": 14,
     "metadata": {},
     "output_type": "execute_result"
    }
   ],
   "source": [
    "cash_rate = 0.02\n",
    "monthly_cash_return = (1+cash_rate)**(1/12) - 1\n",
    "rets_cash = pd.DataFrame(data=monthly_cash_return, index=rets_eq.index, columns=rets_eq.columns)\n",
    "rets_maxdd25 = erk.bt_mix(rets_eq, rets_cash, allocator=erk.drawdown_allocator, maxdd=0.25)\n",
    "tv_maxdd25 = erk.terminal_values(rets_maxdd25)\n",
    "\n",
    "pd.concat([\n",
    "    erk.terminal_stats(rets_zc, name=\"ZC\", floor=0.75),\n",
    "    erk.terminal_stats(rets_eq, name=\"Eq\", floor=0.75),\n",
    "    erk.terminal_stats(rets_7030b, name=\"70/30\", floor=0.75),\n",
    "    erk.terminal_stats(rets_floot75, name=\"Floort75\", floor=0.75),\n",
    "    erk.terminal_stats(rets_floor75m1, name=\"Floort75m1\", floor=0.75),\n",
    "    erk.terminal_stats(rets_floot75m5, name=\"Floort75m5\", floor=0.75),\n",
    "    erk.terminal_stats(rets_maxdd25, name=\"MaxDD25\", floor=0.75)\n",
    "], axis=1).round(4)"
   ]
  },
  {
   "cell_type": "code",
   "execution_count": 16,
   "metadata": {},
   "outputs": [
    {
     "data": {
      "text/plain": [
       "0   -0.179304\n",
       "1   -0.188795\n",
       "2   -0.155097\n",
       "3   -0.176754\n",
       "4   -0.149315\n",
       "Name: max drawdown, dtype: float64"
      ]
     },
     "execution_count": 16,
     "metadata": {},
     "output_type": "execute_result"
    }
   ],
   "source": [
    "erk.summary_stats(rets_maxdd25)[\"max drawdown\"].head()"
   ]
  },
  {
   "cell_type": "code",
   "execution_count": 17,
   "metadata": {},
   "outputs": [
    {
     "data": {
      "text/plain": [
       "-0.23226612454226067"
      ]
     },
     "execution_count": 17,
     "metadata": {},
     "output_type": "execute_result"
    }
   ],
   "source": [
    "erk.summary_stats(rets_maxdd25)[\"max drawdown\"].min()"
   ]
  },
  {
   "cell_type": "code",
   "execution_count": 20,
   "metadata": {},
   "outputs": [
    {
     "data": {
      "text/plain": [
       "<matplotlib.legend.Legend at 0x1a1b84ec50>"
      ]
     },
     "execution_count": 20,
     "metadata": {},
     "output_type": "execute_result"
    },
    {
     "data": {
      "image/png": "[encoded data removed]",
      "text/plain": [
       "<Figure size 864x432 with 1 Axes>"
      ]
     },
     "metadata": {
      "needs_background": "light"
     },
     "output_type": "display_data"
    }
   ],
   "source": [
    "tv_eq = erk.terminal_values(rets_eq)\n",
    "tv_zc = erk.terminal_values(rets_zc)\n",
    "tv_7030b = erk.terminal_values(rets_7030b)\n",
    "tv_floor75 = erk.terminal_values(rets_floot75)\n",
    "tv_maxdd25 = erk.terminal_values(rets_maxdd25)\n",
    "\n",
    "plt.figure(figsize=(12, 6))\n",
    "sns.distplot(tv_eq, color=\"red\", label=\"100% Equities\", bins=100)\n",
    "plt.axvline(tv_eq.mean(), ls=\"--\", color=\"red\")\n",
    "\n",
    "sns.distplot(tv_7030b, color=\"orange\", label=\"70/30 Equities/Bonds\", bins=100)\n",
    "plt.axvline(tv_7030b.mean(), ls=\"--\", color=\"orange\")\n",
    "\n",
    "sns.distplot(tv_floor75, color=\"green\", label=\"Floor at 75%\", bins=100)\n",
    "plt.axvline(tv_floor75.mean(), ls=\"--\", color=\"green\")\n",
    "\n",
    "sns.distplot(tv_maxdd25, color=\"yellow\", label=\"7MaxDD = 25%\", bins=100)\n",
    "plt.axvline(tv_maxdd25.mean(), ls=\"--\", color=\"yellow\")\n",
    "plt.legend()"
   ]
  },
  {
   "cell_type": "markdown",
   "metadata": {},
   "source": [
    "# Drawdown Constraint with Historical Data"
   ]
  },
  {
   "cell_type": "code",
   "execution_count": 22,
   "metadata": {},
   "outputs": [
    {
     "data": {
      "text/plain": [
       "<matplotlib.axes._subplots.AxesSubplot at 0x1a1c6401d0>"
      ]
     },
     "execution_count": 22,
     "metadata": {},
     "output_type": "execute_result"
    },
    {
     "data": {
      "image/png": "[encoded data removed]",
      "text/plain": [
       "<Figure size 864x432 with 1 Axes>"
      ]
     },
     "metadata": {
      "needs_background": "light"
     },
     "output_type": "display_data"
    }
   ],
   "source": [
    "rets_tmi = erk.get_total_market_index_returns()[\"1990\":]\n",
    "dd_tmi = erk.drawdown_df(rets_tmi)\n",
    "ax = dd_tmi[\"wealth\"].plot(figsize=(12,6), ls=\"-\", color=\"goldenrod\")\n",
    "dd_tmi[\"peaks\"].plot(ax=ax, ls=\":\", color=\"goldenrod\")"
   ]
  },
  {
   "cell_type": "code",
   "execution_count": 23,
   "metadata": {},
   "outputs": [
    {
     "data": {
      "text/plain": [
       "<matplotlib.axes._subplots.AxesSubplot at 0x10396eb50>"
      ]
     },
     "execution_count": 23,
     "metadata": {},
     "output_type": "execute_result"
    },
    {
     "data": {
      "image/png": "[encoded data removed]",
      "text/plain": [
       "<Figure size 864x432 with 1 Axes>"
      ]
     },
     "metadata": {
      "needs_background": "light"
     },
     "output_type": "display_data"
    }
   ],
   "source": [
    "cash_rate = 0.03\n",
    "monthly_cash_return = (1+cash_rate)**(1/12) - 1\n",
    "\n",
    "# Historical data instead of simulated data\n",
    "rets_cash = pd.DataFrame(data=monthly_cash_return, index=rets_tmi.index, columns=[0])\n",
    "rets_maxdd25 = erk.bt_mix(pd.DataFrame(rets_tmi),\n",
    "                          rets_cash, allocator=erk.drawdown_allocator, \n",
    "                          maxdd=0.25, m=5)\n",
    "dd_25 = erk.drawdown_df(rets_maxdd25[0])\n",
    "\n",
    "ax = dd_tmi[\"wealth\"].plot(figsize=(12,6), ls=\"-\", color=\"goldenrod\", label=\"Market\")\n",
    "dd_tmi[\"peaks\"].plot(ax=ax, ls=\":\", color=\"goldenrod\")\n",
    "dd_25[\"wealth\"].plot(ax=ax, label=\"MaxDD 25%\", color=\"cornflowerblue\", legend=True)\n",
    "dd_25[\"peaks\"].plot(ax=ax, color=\"cornflowerblue\", ls=\":\")"
   ]
  },
  {
   "cell_type": "code",
   "execution_count": 24,
   "metadata": {},
   "outputs": [
    {
     "data": {
      "text/html": [
       "<div>\n",
       "<style scoped>\n",
       "    .dataframe tbody tr th:only-of-type {\n",
       "        vertical-align: middle;\n",
       "    }\n",
       "\n",
       "    .dataframe tbody tr th {\n",
       "        vertical-align: top;\n",
       "    }\n",
       "\n",
       "    .dataframe thead th {\n",
       "        text-align: right;\n",
       "    }\n",
       "</style>\n",
       "<table border=\"1\" class=\"dataframe\">\n",
       "  <thead>\n",
       "    <tr style=\"text-align: right;\">\n",
       "      <th></th>\n",
       "      <th>annualized return</th>\n",
       "      <th>annualized vol</th>\n",
       "      <th>skewness</th>\n",
       "      <th>kurtosis</th>\n",
       "      <th>Cornish-Fisher VaR (5%)</th>\n",
       "      <th>historic CVaR (5%)</th>\n",
       "      <th>sharpe ratio</th>\n",
       "      <th>max drawdown</th>\n",
       "    </tr>\n",
       "  </thead>\n",
       "  <tbody>\n",
       "    <tr>\n",
       "      <th>Market</th>\n",
       "      <td>0.096058</td>\n",
       "      <td>0.145419</td>\n",
       "      <td>-0.668827</td>\n",
       "      <td>4.247282</td>\n",
       "      <td>0.066949</td>\n",
       "      <td>0.094633</td>\n",
       "      <td>0.441951</td>\n",
       "      <td>-0.499943</td>\n",
       "    </tr>\n",
       "    <tr>\n",
       "      <th>MaxDD</th>\n",
       "      <td>0.090062</td>\n",
       "      <td>0.112755</td>\n",
       "      <td>-0.630463</td>\n",
       "      <td>5.015334</td>\n",
       "      <td>0.049978</td>\n",
       "      <td>0.071074</td>\n",
       "      <td>0.518327</td>\n",
       "      <td>-0.244212</td>\n",
       "    </tr>\n",
       "  </tbody>\n",
       "</table>\n",
       "</div>"
      ],
      "text/plain": [
       "        annualized return  annualized vol  skewness  kurtosis  \\\n",
       "Market           0.096058        0.145419 -0.668827  4.247282   \n",
       "MaxDD            0.090062        0.112755 -0.630463  5.015334   \n",
       "\n",
       "        Cornish-Fisher VaR (5%)  historic CVaR (5%)  sharpe ratio  \\\n",
       "Market                 0.066949            0.094633      0.441951   \n",
       "MaxDD                  0.049978            0.071074      0.518327   \n",
       "\n",
       "        max drawdown  \n",
       "Market     -0.499943  \n",
       "MaxDD      -0.244212  "
      ]
     },
     "execution_count": 24,
     "metadata": {},
     "output_type": "execute_result"
    }
   ],
   "source": [
    "erk.summary_stats(pd.concat([rets_tmi.rename(\"Market\"), rets_maxdd25[0].rename(\"MaxDD\")],\n",
    "                           axis=1))"
   ]
  },
  {
   "cell_type": "markdown",
   "metadata": {},
   "source": [
    "In the following questions, we will be working with three bonds:\n",
    "\n",
    "* B1 is a 15 Year Bond with a Face Value of \\\\$1000 that pays a 5% coupon semi-annually (2 times a year)\n",
    "* B2 is a 5 Year Bond with a Face value of \\\\$1000 that pays a 6% coupon quarterly (4 times a year)\n",
    "* B3 is a 10 Year Zero-Coupon Bond with a Face Value of \\\\$1000 (Hint: you can still use the `erk.bond_cash_flows()` and `erk.bond_price()` by setting the coupon amount to 0% and coupons_per_year to 1) \n",
    "\n",
    "Assume the yield curve is flat at 5%. Duration refers to Macaulay Duration\n",
    "\n",
    "Hint: the macaulay_duration function gives as output the duration expressed in periods and not in years. If you want to get the yearly duration you need to divide the duration for coupons_per_year;\n",
    "\n",
    "e.g.: `duarion_B2 = erk.macaulay_duration(flows_B2, 0.05/4)/4`"
   ]
  },
  {
   "cell_type": "code",
   "execution_count": 55,
   "metadata": {},
   "outputs": [
    {
     "data": {
      "text/html": [
       "<div>\n",
       "<style scoped>\n",
       "    .dataframe tbody tr th:only-of-type {\n",
       "        vertical-align: middle;\n",
       "    }\n",
       "\n",
       "    .dataframe tbody tr th {\n",
       "        vertical-align: top;\n",
       "    }\n",
       "\n",
       "    .dataframe thead th {\n",
       "        text-align: right;\n",
       "    }\n",
       "</style>\n",
       "<table border=\"1\" class=\"dataframe\">\n",
       "  <thead>\n",
       "    <tr style=\"text-align: right;\">\n",
       "      <th></th>\n",
       "      <th>B1</th>\n",
       "      <th>B2</th>\n",
       "      <th>B3</th>\n",
       "    </tr>\n",
       "  </thead>\n",
       "  <tbody>\n",
       "    <tr>\n",
       "      <th>0</th>\n",
       "      <td>1000.0</td>\n",
       "      <td>1043.99829</td>\n",
       "      <td>613.913254</td>\n",
       "    </tr>\n",
       "  </tbody>\n",
       "</table>\n",
       "</div>"
      ],
      "text/plain": [
       "       B1          B2          B3\n",
       "0  1000.0  1043.99829  613.913254"
      ]
     },
     "execution_count": 55,
     "metadata": {},
     "output_type": "execute_result"
    }
   ],
   "source": [
    "b1 = erk.bond_price(15, 1000, 0.05, 2, 0.05)\n",
    "b2 = erk.bond_price(5, 1000, 0.06, 4, 0.05)\n",
    "b3 = erk.bond_price(10, 1000, 0.0, 1, 0.05)\n",
    "\n",
    "pd.concat([b1.rename(\"B1\"),b2.rename(\"B2\"),b3.rename(\"B3\")], axis=\"columns\")"
   ]
  },
  {
   "cell_type": "code",
   "execution_count": 56,
   "metadata": {},
   "outputs": [],
   "source": [
    "b1_flows = erk.bond_cash_flows(15, 1000, 0.05, 2)\n",
    "b1_flows.index = b1_flows.index/2\n",
    "\n",
    "b2_flows = erk.bond_cash_flows(5, 1000, 0.06, 4)\n",
    "b2_flows.index = b2_flows.index/4\n",
    "\n",
    "b3_flows = erk.bond_cash_flows(10, 1000, 0.0, 1)\n",
    "\n",
    "b1_macaulay = erk.macaulay_duration(b1_flows, 0.05)\n",
    "b2_macaulay = erk.macaulay_duration(b2_flows, 0.05)\n",
    "b3_macaulay = erk.macaulay_duration(b3_flows, 0.05)"
   ]
  },
  {
   "cell_type": "code",
   "execution_count": 57,
   "metadata": {},
   "outputs": [
    {
     "data": {
      "text/plain": [
       "10.742333260961377"
      ]
     },
     "execution_count": 57,
     "metadata": {},
     "output_type": "execute_result"
    }
   ],
   "source": [
    "b1_macaulay"
   ]
  },
  {
   "cell_type": "code",
   "execution_count": 58,
   "metadata": {},
   "outputs": [
    {
     "data": {
      "text/plain": [
       "4.374877036571144"
      ]
     },
     "execution_count": 58,
     "metadata": {},
     "output_type": "execute_result"
    }
   ],
   "source": [
    "b2_macaulay"
   ]
  },
  {
   "cell_type": "code",
   "execution_count": 59,
   "metadata": {},
   "outputs": [
    {
     "data": {
      "text/plain": [
       "10.0"
      ]
     },
     "execution_count": 59,
     "metadata": {},
     "output_type": "execute_result"
    }
   ],
   "source": [
    "b3_macaulay"
   ]
  },
  {
   "cell_type": "code",
   "execution_count": 66,
   "metadata": {},
   "outputs": [
    {
     "data": {
      "text/plain": [
       "3     100000\n",
       "5     200000\n",
       "10    300000\n",
       "dtype: int64"
      ]
     },
     "execution_count": 66,
     "metadata": {},
     "output_type": "execute_result"
    }
   ],
   "source": [
    "liabilities = pd.Series(data=[100_000, 200_000, 300_000],\n",
    "                        index=[3,5,10])\n",
    "liabilities"
   ]
  },
  {
   "cell_type": "code",
   "execution_count": 67,
   "metadata": {},
   "outputs": [
    {
     "data": {
      "text/plain": [
       "6.750917852744651"
      ]
     },
     "execution_count": 67,
     "metadata": {},
     "output_type": "execute_result"
    }
   ],
   "source": [
    "erk.macaulay_duration(liabilities, 0.05)"
   ]
  },
  {
   "cell_type": "code",
   "execution_count": 72,
   "metadata": {},
   "outputs": [
    {
     "data": {
      "text/plain": [
       "62.68461482197243"
      ]
     },
     "execution_count": 72,
     "metadata": {},
     "output_type": "execute_result"
    }
   ],
   "source": [
    "(1 - erk.match_durations(liabilities, b1_flows, b2_flows, 0.05))*100"
   ]
  },
  {
   "cell_type": "code",
   "execution_count": 71,
   "metadata": {},
   "outputs": [
    {
     "data": {
      "text/plain": [
       "62.68461482197243"
      ]
     },
     "execution_count": 71,
     "metadata": {},
     "output_type": "execute_result"
    }
   ],
   "source": [
    "erk.match_durations(liabilities, b2_flows, b1_flows, 0.05) * 100"
   ]
  },
  {
   "cell_type": "code",
   "execution_count": 75,
   "metadata": {},
   "outputs": [
    {
     "data": {
      "text/plain": [
       "537.6851096564827"
      ]
     },
     "execution_count": 75,
     "metadata": {},
     "output_type": "execute_result"
    }
   ],
   "source": [
    "(1 - erk.match_durations(liabilities, b1_flows, b3_flows, 0.05)) * 100"
   ]
  },
  {
   "cell_type": "code",
   "execution_count": 76,
   "metadata": {},
   "outputs": [
    {
     "data": {
      "text/plain": [
       "0.5776019774818993"
      ]
     },
     "execution_count": 76,
     "metadata": {},
     "output_type": "execute_result"
    }
   ],
   "source": [
    "erk.match_durations(liabilities, b2_flows, b3_flows, 0.05)"
   ]
  },
  {
   "cell_type": "code",
   "execution_count": null,
   "metadata": {},
   "outputs": [],
   "source": []
  }
 ],
 "metadata": {
  "kernelspec": {
   "display_name": "Python 3",
   "language": "python",
   "name": "python3"
  },
  "language_info": {
   "codemirror_mode": {
    "name": "ipython",
    "version": 3
   },
   "file_extension": ".py",
   "mimetype": "text/x-python",
   "name": "python",
   "nbconvert_exporter": "python",
   "pygments_lexer": "ipython3",
   "version": "3.7.5"
  }
 },
 "nbformat": 4,
 "nbformat_minor": 4
}
