{
 "cells": [
  {
   "cell_type": "markdown",
   "metadata": {},
   "source": [
    "# Naive Risk Budgeting Strategies between the PSP and GHP"
   ]
  },
  {
   "cell_type": "code",
   "execution_count": 1,
   "metadata": {},
   "outputs": [],
   "source": [
    "%load_ext autoreload\n",
    "%autoreload 2\n",
    "\n",
    "import pandas as pd\n",
    "import matplotlib.pyplot as plt\n",
    "import numpy as np\n",
    "import edhec_risk_kit as erk"
   ]
  },
  {
   "cell_type": "code",
   "execution_count": 3,
   "metadata": {},
   "outputs": [],
   "source": [
    "def bt_mix(r1, r2, allocator, **kwargs):\n",
    "    \"\"\"\n",
    "    Runs a backtest of allocating between two sets of returns\n",
    "    r1 and r2 are TxN DataFrames of returns where T is the time step index and \n",
    "    N is the number of scenarios.\n",
    "    allocator is a function that takes two sets of returns and allocator specific params and\n",
    "    produces an allocation to the first portfolio (the rest of the money is invested in the GHP)\n",
    "    as a Tx1 DataFrame.\n",
    "    Returns a TxN DataFrame of the resulting N portfolio scenarios\n",
    "    \"\"\"\n",
    "    if not r1.shape == r2.shape:\n",
    "        raise ValueError(\"r1 and r2 need to be the same shape\")\n",
    "    \n",
    "    weights = allocator(r1, r2, **kwargs)\n",
    "    \n",
    "    if not weights.shape == r1.shape:\n",
    "        raise ValueError(\"Allocator returned weights that don't match r1\")\n",
    "        \n",
    "    r_mix = weights*r1 + (1-weights)*r2\n",
    "    return r_mix"
   ]
  },
  {
   "cell_type": "code",
   "execution_count": 4,
   "metadata": {},
   "outputs": [],
   "source": [
    "def fixed_mix_allocator(r1, r2, w1, **kwargs):\n",
    "    \"\"\"\n",
    "    Produces a time series over T steps of allocations between the PSP and GHP across N scenarios\n",
    "    PSP and GHP are TxN DataFrames that represent the returns of the PSP and GHP such that:\n",
    "      each column is a scenario\n",
    "      each row is the price for a timestep\n",
    "    Returns a TxN DataFrame of PSP weights\n",
    "    \"\"\"\n",
    "    return pd.DataFrame(data=w1, index=r1.index, columns=r1.columns)"
   ]
  },
  {
   "cell_type": "code",
   "execution_count": 8,
   "metadata": {},
   "outputs": [
    {
     "data": {
      "text/html": [
       "<div>\n",
       "<style scoped>\n",
       "    .dataframe tbody tr th:only-of-type {\n",
       "        vertical-align: middle;\n",
       "    }\n",
       "\n",
       "    .dataframe tbody tr th {\n",
       "        vertical-align: top;\n",
       "    }\n",
       "\n",
       "    .dataframe thead th {\n",
       "        text-align: right;\n",
       "    }\n",
       "</style>\n",
       "<table border=\"1\" class=\"dataframe\">\n",
       "  <thead>\n",
       "    <tr style=\"text-align: right;\">\n",
       "      <th></th>\n",
       "      <th>annualized return</th>\n",
       "      <th>annualized vol</th>\n",
       "      <th>skewness</th>\n",
       "      <th>kurtosis</th>\n",
       "      <th>Cornish-Fisher VaR (5%)</th>\n",
       "      <th>historic CVaR (5%)</th>\n",
       "      <th>sharpe ratio</th>\n",
       "      <th>max drawdown</th>\n",
       "    </tr>\n",
       "  </thead>\n",
       "  <tbody>\n",
       "    <tr>\n",
       "      <th>0</th>\n",
       "      <td>0.036654</td>\n",
       "      <td>0.004008</td>\n",
       "      <td>-0.040452</td>\n",
       "      <td>2.759086</td>\n",
       "      <td>-0.001091</td>\n",
       "      <td>-0.000616</td>\n",
       "      <td>1.61559</td>\n",
       "      <td>0.0</td>\n",
       "    </tr>\n",
       "  </tbody>\n",
       "</table>\n",
       "</div>"
      ],
      "text/plain": [
       "   annualized return  annualized vol  skewness  kurtosis  \\\n",
       "0           0.036654        0.004008 -0.040452  2.759086   \n",
       "\n",
       "   Cornish-Fisher VaR (5%)  historic CVaR (5%)  sharpe ratio  max drawdown  \n",
       "0                -0.001091           -0.000616       1.61559           0.0  "
      ]
     },
     "execution_count": 8,
     "metadata": {},
     "output_type": "execute_result"
    }
   ],
   "source": [
    "rates, zc_prices = erk.cir(10, 500, b=0.03, r_0=0.03)\n",
    "\n",
    "price_10 = erk.bond_price(10, 100, 0.05, 12, rates)\n",
    "price_30 = erk.bond_price(30, 100, 0.05, 12, rates)\n",
    "\n",
    "rets_10 = erk.bond_total_return(price_10, 100, 0.05, 12)\n",
    "rets_30 = erk.bond_total_return(price_30, 100, 0.05, 12)\n",
    "\n",
    "rets_bonds = erk.bt_mix(rets_10, rets_30, allocator=erk.fixed_mix_allocator, w1=0.5)\n",
    "mean_rets_bonds = rets_bonds.mean(axis=\"columns\")\n",
    "erk.summary_stats(pd.DataFrame(mean_rets_bonds))"
   ]
  },
  {
   "cell_type": "code",
   "execution_count": 9,
   "metadata": {},
   "outputs": [],
   "source": [
    "price_eq = erk.gbm(n_years=10, n_scenarios=500, mu=0.07, sigma=0.15)\n",
    "rets_eq = price_eq.pct_change().dropna()\n",
    "rets_zc = zc_prices.pct_change().dropna()"
   ]
  },
  {
   "cell_type": "code",
   "execution_count": 11,
   "metadata": {},
   "outputs": [
    {
     "data": {
      "text/html": [
       "<div>\n",
       "<style scoped>\n",
       "    .dataframe tbody tr th:only-of-type {\n",
       "        vertical-align: middle;\n",
       "    }\n",
       "\n",
       "    .dataframe tbody tr th {\n",
       "        vertical-align: top;\n",
       "    }\n",
       "\n",
       "    .dataframe thead th {\n",
       "        text-align: right;\n",
       "    }\n",
       "</style>\n",
       "<table border=\"1\" class=\"dataframe\">\n",
       "  <thead>\n",
       "    <tr style=\"text-align: right;\">\n",
       "      <th></th>\n",
       "      <th>annualized return</th>\n",
       "      <th>annualized vol</th>\n",
       "      <th>skewness</th>\n",
       "      <th>kurtosis</th>\n",
       "      <th>Cornish-Fisher VaR (5%)</th>\n",
       "      <th>historic CVaR (5%)</th>\n",
       "      <th>sharpe ratio</th>\n",
       "      <th>max drawdown</th>\n",
       "    </tr>\n",
       "  </thead>\n",
       "  <tbody>\n",
       "    <tr>\n",
       "      <th>0</th>\n",
       "      <td>0.058394</td>\n",
       "      <td>0.005248</td>\n",
       "      <td>0.028358</td>\n",
       "      <td>2.927792</td>\n",
       "      <td>-0.00227</td>\n",
       "      <td>-0.001592</td>\n",
       "      <td>5.266364</td>\n",
       "      <td>0.0</td>\n",
       "    </tr>\n",
       "  </tbody>\n",
       "</table>\n",
       "</div>"
      ],
      "text/plain": [
       "   annualized return  annualized vol  skewness  kurtosis  \\\n",
       "0           0.058394        0.005248  0.028358  2.927792   \n",
       "\n",
       "   Cornish-Fisher VaR (5%)  historic CVaR (5%)  sharpe ratio  max drawdown  \n",
       "0                 -0.00227           -0.001592      5.266364           0.0  "
      ]
     },
     "execution_count": 11,
     "metadata": {},
     "output_type": "execute_result"
    }
   ],
   "source": [
    "rets_7030b = erk.bt_mix(rets_eq, rets_bonds, allocator=erk.fixed_mix_allocator, w1=0.7)\n",
    "rets_7030b_mean = rets_7030b.mean(axis=\"columns\")\n",
    "erk.summary_stats(pd.DataFrame(rets_7030b_mean))"
   ]
  },
  {
   "cell_type": "code",
   "execution_count": 12,
   "metadata": {},
   "outputs": [],
   "source": [
    "summaries = erk.summary_stats(rets_7030b)"
   ]
  },
  {
   "cell_type": "code",
   "execution_count": 13,
   "metadata": {},
   "outputs": [
    {
     "data": {
      "text/html": [
       "<div>\n",
       "<style scoped>\n",
       "    .dataframe tbody tr th:only-of-type {\n",
       "        vertical-align: middle;\n",
       "    }\n",
       "\n",
       "    .dataframe tbody tr th {\n",
       "        vertical-align: top;\n",
       "    }\n",
       "\n",
       "    .dataframe thead th {\n",
       "        text-align: right;\n",
       "    }\n",
       "</style>\n",
       "<table border=\"1\" class=\"dataframe\">\n",
       "  <thead>\n",
       "    <tr style=\"text-align: right;\">\n",
       "      <th></th>\n",
       "      <th>annualized return</th>\n",
       "      <th>annualized vol</th>\n",
       "      <th>skewness</th>\n",
       "      <th>kurtosis</th>\n",
       "      <th>Cornish-Fisher VaR (5%)</th>\n",
       "      <th>historic CVaR (5%)</th>\n",
       "      <th>sharpe ratio</th>\n",
       "      <th>max drawdown</th>\n",
       "    </tr>\n",
       "  </thead>\n",
       "  <tbody>\n",
       "    <tr>\n",
       "      <th>0</th>\n",
       "      <td>0.024606</td>\n",
       "      <td>0.114271</td>\n",
       "      <td>-0.541638</td>\n",
       "      <td>3.833892</td>\n",
       "      <td>0.055783</td>\n",
       "      <td>0.077218</td>\n",
       "      <td>-0.046087</td>\n",
       "      <td>-0.329171</td>\n",
       "    </tr>\n",
       "    <tr>\n",
       "      <th>1</th>\n",
       "      <td>0.059701</td>\n",
       "      <td>0.109647</td>\n",
       "      <td>0.106145</td>\n",
       "      <td>2.562060</td>\n",
       "      <td>0.045829</td>\n",
       "      <td>0.057824</td>\n",
       "      <td>0.263514</td>\n",
       "      <td>-0.210984</td>\n",
       "    </tr>\n",
       "    <tr>\n",
       "      <th>2</th>\n",
       "      <td>0.086335</td>\n",
       "      <td>0.108813</td>\n",
       "      <td>0.095633</td>\n",
       "      <td>2.636743</td>\n",
       "      <td>0.043415</td>\n",
       "      <td>0.053753</td>\n",
       "      <td>0.503777</td>\n",
       "      <td>-0.148377</td>\n",
       "    </tr>\n",
       "    <tr>\n",
       "      <th>3</th>\n",
       "      <td>0.015975</td>\n",
       "      <td>0.104093</td>\n",
       "      <td>0.004597</td>\n",
       "      <td>3.276871</td>\n",
       "      <td>0.047245</td>\n",
       "      <td>0.061661</td>\n",
       "      <td>-0.131254</td>\n",
       "      <td>-0.267018</td>\n",
       "    </tr>\n",
       "    <tr>\n",
       "      <th>4</th>\n",
       "      <td>0.040098</td>\n",
       "      <td>0.109887</td>\n",
       "      <td>-0.370248</td>\n",
       "      <td>2.874771</td>\n",
       "      <td>0.051500</td>\n",
       "      <td>0.065849</td>\n",
       "      <td>0.089305</td>\n",
       "      <td>-0.307493</td>\n",
       "    </tr>\n",
       "  </tbody>\n",
       "</table>\n",
       "</div>"
      ],
      "text/plain": [
       "   annualized return  annualized vol  skewness  kurtosis  \\\n",
       "0           0.024606        0.114271 -0.541638  3.833892   \n",
       "1           0.059701        0.109647  0.106145  2.562060   \n",
       "2           0.086335        0.108813  0.095633  2.636743   \n",
       "3           0.015975        0.104093  0.004597  3.276871   \n",
       "4           0.040098        0.109887 -0.370248  2.874771   \n",
       "\n",
       "   Cornish-Fisher VaR (5%)  historic CVaR (5%)  sharpe ratio  max drawdown  \n",
       "0                 0.055783            0.077218     -0.046087     -0.329171  \n",
       "1                 0.045829            0.057824      0.263514     -0.210984  \n",
       "2                 0.043415            0.053753      0.503777     -0.148377  \n",
       "3                 0.047245            0.061661     -0.131254     -0.267018  \n",
       "4                 0.051500            0.065849      0.089305     -0.307493  "
      ]
     },
     "execution_count": 13,
     "metadata": {},
     "output_type": "execute_result"
    }
   ],
   "source": [
    "summaries.head()"
   ]
  },
  {
   "cell_type": "code",
   "execution_count": 14,
   "metadata": {},
   "outputs": [
    {
     "data": {
      "text/plain": [
       "annualized return          0.052802\n",
       "annualized vol             0.108565\n",
       "skewness                   0.003388\n",
       "kurtosis                   2.965813\n",
       "Cornish-Fisher VaR (5%)    0.046556\n",
       "historic CVaR (5%)         0.059039\n",
       "sharpe ratio               0.206782\n",
       "max drawdown              -0.212140\n",
       "dtype: float64"
      ]
     },
     "execution_count": 14,
     "metadata": {},
     "output_type": "execute_result"
    }
   ],
   "source": [
    "summaries.mean()"
   ]
  },
  {
   "cell_type": "markdown",
   "metadata": {},
   "source": [
    "This two ways of summarizing will give you an idea but it's not the proper way of doing things. \n",
    "\n",
    "the proper way to do this is to look at the terminal value. At the end of the day how much cash do you have?"
   ]
  },
  {
   "cell_type": "code",
   "execution_count": 15,
   "metadata": {},
   "outputs": [
    {
     "data": {
      "text/html": [
       "<div>\n",
       "<style scoped>\n",
       "    .dataframe tbody tr th:only-of-type {\n",
       "        vertical-align: middle;\n",
       "    }\n",
       "\n",
       "    .dataframe tbody tr th {\n",
       "        vertical-align: top;\n",
       "    }\n",
       "\n",
       "    .dataframe thead th {\n",
       "        text-align: right;\n",
       "    }\n",
       "</style>\n",
       "<table border=\"1\" class=\"dataframe\">\n",
       "  <thead>\n",
       "    <tr style=\"text-align: right;\">\n",
       "      <th></th>\n",
       "      <th>FI</th>\n",
       "      <th>Eq</th>\n",
       "      <th>70/30</th>\n",
       "    </tr>\n",
       "  </thead>\n",
       "  <tbody>\n",
       "    <tr>\n",
       "      <th>mean</th>\n",
       "      <td>1.387758</td>\n",
       "      <td>1.929933</td>\n",
       "      <td>1.757730</td>\n",
       "    </tr>\n",
       "    <tr>\n",
       "      <th>std</th>\n",
       "      <td>0.147229</td>\n",
       "      <td>0.952551</td>\n",
       "      <td>0.588932</td>\n",
       "    </tr>\n",
       "    <tr>\n",
       "      <th>p_breach</th>\n",
       "      <td>NaN</td>\n",
       "      <td>0.062000</td>\n",
       "      <td>0.028000</td>\n",
       "    </tr>\n",
       "    <tr>\n",
       "      <th>e_short</th>\n",
       "      <td>NaN</td>\n",
       "      <td>0.170602</td>\n",
       "      <td>0.066518</td>\n",
       "    </tr>\n",
       "    <tr>\n",
       "      <th>p_reach</th>\n",
       "      <td>NaN</td>\n",
       "      <td>NaN</td>\n",
       "      <td>NaN</td>\n",
       "    </tr>\n",
       "    <tr>\n",
       "      <th>e_surplus</th>\n",
       "      <td>NaN</td>\n",
       "      <td>NaN</td>\n",
       "      <td>NaN</td>\n",
       "    </tr>\n",
       "  </tbody>\n",
       "</table>\n",
       "</div>"
      ],
      "text/plain": [
       "                 FI        Eq     70/30\n",
       "mean       1.387758  1.929933  1.757730\n",
       "std        0.147229  0.952551  0.588932\n",
       "p_breach        NaN  0.062000  0.028000\n",
       "e_short         NaN  0.170602  0.066518\n",
       "p_reach         NaN       NaN       NaN\n",
       "e_surplus       NaN       NaN       NaN"
      ]
     },
     "execution_count": 15,
     "metadata": {},
     "output_type": "execute_result"
    }
   ],
   "source": [
    "pd.concat([\n",
    "    erk.terminal_stats(rets_bonds, name=\"FI\"),\n",
    "    erk.terminal_stats(rets_eq, name=\"Eq\"),\n",
    "    erk.terminal_stats(rets_7030b, name=\"70/30\")\n",
    "], axis=1)"
   ]
  },
  {
   "cell_type": "markdown",
   "metadata": {},
   "source": [
    "### What this is saying\n",
    "\n",
    "For every dollar that we invested in these different strategies across 500 scenarios tested:\n",
    "\n",
    "* Fixed income strategy: 40/60 between long and short term bond. You'll end up with 1.38. Probability of ending below our floor is NaN.\n",
    "* Equities: 1.98. Gave us a much better upside, but theres a 6% probability that we'll end up below 80 cents on the dollar and (e_short is how much I undershot by) on average if we miss we're gonna miss by 18cents.\n",
    "* 70/30: 1.79. Less probability of falling short and shortfall is smaller.\n",
    "\n",
    "We set our floor at 0.8, our minimum acceptable liability, a number which I absolutely don't want to be below. \n",
    "\n",
    "What can we do to make sure that we can actually hit that liability no matter what happens. **coming in last session**"
   ]
  },
  {
   "cell_type": "code",
   "execution_count": 17,
   "metadata": {},
   "outputs": [
    {
     "data": {
      "text/plain": [
       "<matplotlib.legend.Legend at 0x1a25061690>"
      ]
     },
     "execution_count": 17,
     "metadata": {},
     "output_type": "execute_result"
    },
    {
     "data": {
      "image/png": "[encoded data removed]",
      "text/plain": [
       "<Figure size 864x432 with 1 Axes>"
      ]
     },
     "metadata": {
      "needs_background": "light"
     },
     "output_type": "display_data"
    }
   ],
   "source": [
    "import seaborn as sns\n",
    "\n",
    "plt.figure(figsize=(12, 6))\n",
    "sns.distplot(erk.terminal_values(rets_eq), color=\"red\", label=\"100% Equities\") # risky\n",
    "sns.distplot(erk.terminal_values(rets_bonds), color=\"blue\", label=\"100% Bonds\") # conservative\n",
    "sns.distplot(erk.terminal_values(rets_7030b), color=\"orange\", label=\"70/30 Equities/Bonds\")\n",
    "plt.legend()"
   ]
  },
  {
   "cell_type": "markdown",
   "metadata": {},
   "source": [
    "## Glide Paths for Allocation\n",
    "\n",
    "Let's define our weights, our risk budgeting technique, to not be a fixed mix of 70 and 30, let's start with something like 80% or 90% in stocks and then glide our way so that over those 10 years we end up at maybe 20%. "
   ]
  },
  {
   "cell_type": "code",
   "execution_count": 18,
   "metadata": {},
   "outputs": [],
   "source": [
    "def glide_path_allocator(r1, r2, start_glide=1, end_glide=0):\n",
    "    \"\"\"\n",
    "    Simulates a target-date-fund style gradual move from r1 to r2\n",
    "    \"\"\"\n",
    "    n_points = r.shape[0]\n",
    "    n_col = r1.shape[1]\n",
    "    path = pd.Series(data=np.linspace(start_glide, end_glide, num=n_points))\n",
    "    paths = pd.concat([path]*n_col, axis=\"columns\")\n",
    "    paths.index = r1.index\n",
    "    paths.columns = r1.columns\n",
    "    return paths"
   ]
  },
  {
   "cell_type": "code",
   "execution_count": 20,
   "metadata": {},
   "outputs": [
    {
     "data": {
      "text/html": [
       "<div>\n",
       "<style scoped>\n",
       "    .dataframe tbody tr th:only-of-type {\n",
       "        vertical-align: middle;\n",
       "    }\n",
       "\n",
       "    .dataframe tbody tr th {\n",
       "        vertical-align: top;\n",
       "    }\n",
       "\n",
       "    .dataframe thead th {\n",
       "        text-align: right;\n",
       "    }\n",
       "</style>\n",
       "<table border=\"1\" class=\"dataframe\">\n",
       "  <thead>\n",
       "    <tr style=\"text-align: right;\">\n",
       "      <th></th>\n",
       "      <th>FI</th>\n",
       "      <th>Eq</th>\n",
       "      <th>70/30</th>\n",
       "      <th>Glide 80 to 20</th>\n",
       "    </tr>\n",
       "  </thead>\n",
       "  <tbody>\n",
       "    <tr>\n",
       "      <th>mean</th>\n",
       "      <td>1.387758</td>\n",
       "      <td>1.929933</td>\n",
       "      <td>1.757730</td>\n",
       "      <td>1.645113</td>\n",
       "    </tr>\n",
       "    <tr>\n",
       "      <th>std</th>\n",
       "      <td>0.147229</td>\n",
       "      <td>0.952551</td>\n",
       "      <td>0.588932</td>\n",
       "      <td>0.420002</td>\n",
       "    </tr>\n",
       "    <tr>\n",
       "      <th>p_breach</th>\n",
       "      <td>NaN</td>\n",
       "      <td>0.062000</td>\n",
       "      <td>0.028000</td>\n",
       "      <td>0.002000</td>\n",
       "    </tr>\n",
       "    <tr>\n",
       "      <th>e_short</th>\n",
       "      <td>NaN</td>\n",
       "      <td>0.170602</td>\n",
       "      <td>0.066518</td>\n",
       "      <td>0.116589</td>\n",
       "    </tr>\n",
       "    <tr>\n",
       "      <th>p_reach</th>\n",
       "      <td>NaN</td>\n",
       "      <td>NaN</td>\n",
       "      <td>NaN</td>\n",
       "      <td>NaN</td>\n",
       "    </tr>\n",
       "    <tr>\n",
       "      <th>e_surplus</th>\n",
       "      <td>NaN</td>\n",
       "      <td>NaN</td>\n",
       "      <td>NaN</td>\n",
       "      <td>NaN</td>\n",
       "    </tr>\n",
       "  </tbody>\n",
       "</table>\n",
       "</div>"
      ],
      "text/plain": [
       "                 FI        Eq     70/30  Glide 80 to 20\n",
       "mean       1.387758  1.929933  1.757730        1.645113\n",
       "std        0.147229  0.952551  0.588932        0.420002\n",
       "p_breach        NaN  0.062000  0.028000        0.002000\n",
       "e_short         NaN  0.170602  0.066518        0.116589\n",
       "p_reach         NaN       NaN       NaN             NaN\n",
       "e_surplus       NaN       NaN       NaN             NaN"
      ]
     },
     "execution_count": 20,
     "metadata": {},
     "output_type": "execute_result"
    }
   ],
   "source": [
    "rets_g8020 = erk.bt_mix(rets_eq, rets_bonds, \n",
    "                        allocator=erk.glide_path_allocator,\n",
    "                        start_glide=0.80, end_glide=0.20)\n",
    "\n",
    "pd.concat([\n",
    "    erk.terminal_stats(rets_bonds, name=\"FI\"),\n",
    "    erk.terminal_stats(rets_eq, name=\"Eq\"),\n",
    "    erk.terminal_stats(rets_7030b, name=\"70/30\"),\n",
    "    erk.terminal_stats(rets_g8020, name=\"Glide 80 to 20\")\n",
    "], axis=1)"
   ]
  },
  {
   "cell_type": "markdown",
   "metadata": {},
   "source": [
    "Helps but doesn't solve the problem"
   ]
  },
  {
   "cell_type": "code",
   "execution_count": null,
   "metadata": {},
   "outputs": [],
   "source": []
  }
 ],
 "metadata": {
  "kernelspec": {
   "display_name": "Python 3",
   "language": "python",
   "name": "python3"
  },
  "language_info": {
   "codemirror_mode": {
    "name": "ipython",
    "version": 3
   },
   "file_extension": ".py",
   "mimetype": "text/x-python",
   "name": "python",
   "nbconvert_exporter": "python",
   "pygments_lexer": "ipython3",
   "version": "3.7.5"
  }
 },
 "nbformat": 4,
 "nbformat_minor": 4
}
