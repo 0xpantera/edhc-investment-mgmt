{
 "cells": [
  {
   "cell_type": "markdown",
   "metadata": {},
   "source": [
    "# Methods for computing VaR"
   ]
  },
  {
   "cell_type": "markdown",
   "metadata": {},
   "source": [
    "There are at least four standard methods for calculating VaR:\n",
    "\n",
    "1. Historical (non parametric)\n",
    "2. Variance-covariance (parametric gaussian)\n",
    "3. Parametric non gaussian\n",
    "4. Cornish-Fisher (semi parametric)"
   ]
  },
  {
   "cell_type": "markdown",
   "metadata": {},
   "source": [
    "## Historical Methodology\n",
    "\n",
    "Calculation of VaR based on the distribution of historical changes in the value of the current portfolio under market prices over the specified historical observation window.\n",
    "\n",
    "* You take a sample of returns and, if you're looking at the 99% value at risk you throw away the 1% worst outcomes and then focus on the remaining worst outcome.\n",
    "\n",
    "Pros:\n",
    "* There's no assumption about asset return distributions. \n",
    "* You don't have to worry about specifying the model if you're not using a model.\n",
    "\n",
    "Cons:\n",
    "* Because you aren't using any assumption you are solely relying on historical data. You're estimate might be sensitive to the sample period."
   ]
  },
  {
   "cell_type": "markdown",
   "metadata": {},
   "source": [
    "## Parametric Gaussian Methodology\n",
    "\n",
    "Calculation of VaR based on portfolio volatility. i.e. on volatilities and correlations of components.\n",
    "\n",
    "Concerned about sample risks, so it imposes an assumption by starting with something about return distribution. You come up with a specific assumption about the return distribution and then the focus will be on estimating the parameters of that return distribution.\n",
    "\n",
    "Simple example would be to assume a Gaussian distribution. This makes it simple because you only need to estimate the mean and volatility (std) of the distribution. \n",
    "\n",
    "**Gaussian VaR**\n",
    "\n",
    "Consider $Z_{\\alpha}$ the $\\alpha$-quantile of the standard normal distribution.\n",
    "\n",
    "For example $Z_{\\alpha} = -1.65$ at 5% (actually 4.95%)\n",
    "\n",
    "Value-at-risk estimated the Alpha confidence level is given by:\n",
    "\n",
    "$VaR_{\\alpha} = -(\\mu + z_{\\alpha}\\sigma)$"
   ]
  },
  {
   "cell_type": "markdown",
   "metadata": {},
   "source": [
    "**Q1**\n",
    "\n",
    "Consider a portfolio with a +0.5% monthly expected return and 4% monthly volatility. What is the 95% monthly Gaussian VaR for the portfolio?\n",
    "\n",
    "6.1%\n",
    "\n",
    "**Note** Z 5%, the critical value for probability 95% is -1.65"
   ]
  },
  {
   "cell_type": "code",
   "execution_count": 8,
   "metadata": {},
   "outputs": [
    {
     "data": {
      "text/plain": [
       "0.061000000000000006"
      ]
     },
     "execution_count": 8,
     "metadata": {},
     "output_type": "execute_result"
    }
   ],
   "source": [
    "(-(0.005 - (1.65 * 0.04)))"
   ]
  },
  {
   "cell_type": "markdown",
   "metadata": {},
   "source": [
    "## The Risk of Assuming Normality\n",
    "\n",
    "Assuming normal distributions may understate risk. We know a Gaussian assumption is not a good assumption for asset returns. Asset returns have much fatter tails. "
   ]
  },
  {
   "cell_type": "markdown",
   "metadata": {},
   "source": [
    "## Parametric Non Gaussian VaR\n",
    "\n",
    "Parametric is good because it mitigates the problem of estimation risk at the cost of model risk!\n",
    "\n",
    "Can be a parametric but non-gaussian:\n",
    "* Pareto\n",
    "* Student with $\\alpha \\gt 0$ degrees of freedom$\n",
    "* Loggamma\n",
    "* Frechet"
   ]
  },
  {
   "cell_type": "markdown",
   "metadata": {},
   "source": [
    "## Cornish-Fisher VaR\n",
    "\n",
    "An alternative to parametric exists: semi-parametric approach. Sort of like best of both worlds.\n",
    "\n",
    "Doesn't force you to assume any return distribution. \n",
    "\n",
    "Has become a very commonly used methodology for calculation of VaR estimates in non-gaussian settings:\n",
    "\n",
    "$VaR_{mod}(1-\\alpha) = -(\\mu + \\hat{z}_{\\alpha}\\sigma)$"
   ]
  },
  {
   "cell_type": "markdown",
   "metadata": {},
   "source": [
    "**Q2**\n",
    "\n",
    "Consider an asset with a skewness equal to -1.2 and kurtosis equal to 6. Keeping in mind that z 5%, the critical value for probability 95% is -1.65, indicate what would be the modified critical value for probability 95% using the Cornish Fisher expansion.\n",
    "\n",
    "-1.90\n",
    "\n",
    "$$\\hat{z}_{\\alpha} = z_{\\alpha} + \\frac{1}{6}(z^2_{\\alpha}-1)S+\\frac{1}{24}(z^3_{\\alpha}-3z_{\\alpha})(K-3)-\\frac{1}{36}(2z^3_{a}-5z_{\\alpha})S^2$$"
   ]
  },
  {
   "cell_type": "code",
   "execution_count": 11,
   "metadata": {},
   "outputs": [
    {
     "data": {
      "text/plain": [
       "-1.9078956249999999"
      ]
     },
     "execution_count": 11,
     "metadata": {},
     "output_type": "execute_result"
    }
   ],
   "source": [
    "z = -1.65\n",
    "s = -1.2\n",
    "k = 6\n",
    "\n",
    "z+(1/6)*(z**2 - 1)*s + (1/24)*(z**3-3*z)*(k - 3)-(1/36)*(2*z**3-5*z)*s**2"
   ]
  },
  {
   "cell_type": "markdown",
   "metadata": {},
   "source": [
    "## Wrap-up\n",
    "\n",
    "There exist different methods that can be used to estimate VaR\n",
    "\n",
    "A trade-off exists between sample risk and model risk\n",
    "* If you start using parametric assumption, you're taking on less sample risk, but you're takin on, you're introducing model risk.\n",
    "\n",
    "A semi-parametric cornish-fisher is often regarded as a good compromise."
   ]
  }
 ],
 "metadata": {
  "kernelspec": {
   "display_name": "Python 3",
   "language": "python",
   "name": "python3"
  },
  "language_info": {
   "codemirror_mode": {
    "name": "ipython",
    "version": 3
   },
   "file_extension": ".py",
   "mimetype": "text/x-python",
   "name": "python",
   "nbconvert_exporter": "python",
   "pygments_lexer": "ipython3",
   "version": "3.7.5"
  }
 },
 "nbformat": 4,
 "nbformat_minor": 4
}
