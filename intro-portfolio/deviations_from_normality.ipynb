{
 "cells": [
  {
   "cell_type": "markdown",
   "metadata": {},
   "source": [
    "# Deviations from Normality"
   ]
  },
  {
   "cell_type": "markdown",
   "metadata": {},
   "source": [
    "Actual time series returns on different asset classes are actually not normally distributed in such a way that a normal assumption is just a simplifying assumption."
   ]
  },
  {
   "cell_type": "markdown",
   "metadata": {},
   "source": [
    "## The Gaussian Assumption"
   ]
  },
  {
   "cell_type": "markdown",
   "metadata": {},
   "source": [
    "* **Standard simplifying assumption**: Asset returns are normally distributed.\n",
    "* In reality large changes are more frequent.\n",
    "* Conclusion: The normal distribution assumption is a simplifying assumption that under estimates the magnitude of extreme returns."
   ]
  },
  {
   "cell_type": "markdown",
   "metadata": {},
   "source": [
    "## Higher Order Moments"
   ]
  },
  {
   "cell_type": "markdown",
   "metadata": {},
   "source": [
    "* To do justice to the actual shape of the return distribution we should move beyond mean and variance.\n",
    "* We should look at higher moments:\n",
    "    * skewness: a measure of asymmetry of the distribution. \n",
    "        * The normal bell-shaped distribution is symmetric. \n",
    "        * So the probability of getting an outcome below the mean is the same as getting an outcome above the mean.\n",
    "        * If the distribution has a negative skewness, the probabilty of getting an outcome below the mean is higher than the probability of an outcome above the mean.\n",
    "        * The opposite is true for a positive skewness.\n",
    "        * $$S(R) = \\frac{E[(R - E(R))^3]}{[Var(R)]^{3/2}}$$\n",
    "        * numerator: Skewness is related to the third moment, third center moment of the return distribution\n",
    "        * denominator: then normalized by the variance of the return to the power of 1.5, or to the standard deviation to the power of 3.\n",
    "    * kurtosis: a measure of the thickness of the tail of the distribution.\n",
    "        * The Gaussian distribution has very thin tails, decreases very sharply to zero, which implies that precisely, the probability of getting a very large negative or positive outcomes tend to be very small.\n",
    "        * In reality, return distributions tend to have fatter tails.\n",
    "        * $$K(R) = \\frac{E[(R - E(R))^4]}{[Var(R)]^2}$$\n",
    "        * numerator: Kurtosis is related to the fourth center moment of the return distribution.\n",
    "        * denominator: then normalized by dividing by variance squared or the standard deviation to the power of 4.\n",
    "        * Fat tail distribution: Any return distribution that has a kurtosis higher than 3"
   ]
  },
  {
   "cell_type": "markdown",
   "metadata": {},
   "source": [
    "**Q1**\n",
    "\n",
    "Consider two portfolio distributions with mean=0 and volatility=1. \n",
    "* The blue one has skewness=-0.75 and kurtosis=6.06\n",
    "* The pink one has skewness=0 and kurtosis=3\n",
    "Which one would you prefer?\n",
    "* Pink: Since it has a Gaussian distribution and a lower probability of severe losses compared to the blue one.\n",
    "* Blue: "
   ]
  },
  {
   "cell_type": "markdown",
   "metadata": {},
   "source": [
    "**Q2**\n",
    "\n",
    "The lowest recorded monthly return for the Global Macro hedge fund index on the period 1997-2018 is -3.1%, which happens to be 2.5 standard deviations below the historical mean. Such an event would occur with a 0.63% probability if the return distribution was normal. Please indicate how many months on average one would have to wait to observe such an event? \n",
    "* The answer is given by $\\frac{1}{0.63%} = 158.78$ months"
   ]
  },
  {
   "cell_type": "markdown",
   "metadata": {},
   "source": [
    "## Conclusion"
   ]
  },
  {
   "cell_type": "markdown",
   "metadata": {},
   "source": [
    "* Asset returns are not normally distributed\n",
    "* Deviations from normality can be severe"
   ]
  }
 ],
 "metadata": {
  "kernelspec": {
   "display_name": "Python 3",
   "language": "python",
   "name": "python3"
  },
  "language_info": {
   "codemirror_mode": {
    "name": "ipython",
    "version": 3
   },
   "file_extension": ".py",
   "mimetype": "text/x-python",
   "name": "python",
   "nbconvert_exporter": "python",
   "pygments_lexer": "ipython3",
   "version": "3.7.5"
  }
 },
 "nbformat": 4,
 "nbformat_minor": 4
}
