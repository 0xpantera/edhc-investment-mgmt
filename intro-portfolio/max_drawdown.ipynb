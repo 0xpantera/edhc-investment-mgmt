{
 "cells": [
  {
   "cell_type": "markdown",
   "metadata": {},
   "source": [
    "# Measuring Max Drawdown"
   ]
  },
  {
   "cell_type": "markdown",
   "metadata": {},
   "source": [
    "Sharpe ratio: the ratio of the excess return that you would get over what you get get with no risk. In other words, the excess return over the risk-free rate per unit of volatility. "
   ]
  },
  {
   "cell_type": "markdown",
   "metadata": {},
   "source": [
    "* Volatility is not necessarily a bad thing. It's deviation from the mean. If you deviate from the mean on the upside it's a good thing.\n",
    "* Risk is really the possibility of losing money."
   ]
  },
  {
   "cell_type": "markdown",
   "metadata": {},
   "source": [
    "**Q1**\n",
    "\n",
    "Asset A loses 1% a month for 12 months and Asset B gains 1% a month for 12 months. Which is the more volatile asset?\n",
    "\n",
    "* Neither\n",
    "    * Since they both produce the same return each month, their deviations from their mean are zero each month, and so the volatility of both of these assets is 0."
   ]
  },
  {
   "cell_type": "markdown",
   "metadata": {},
   "source": [
    "## Max Drawdown"
   ]
  },
  {
   "cell_type": "markdown",
   "metadata": {},
   "source": [
    "The **max drawdown** is the maximum loss from the previous high to a subsequent low.\n",
    "\n",
    "**Buy** at it's highest value and **sold** at the bottom.\n",
    "\n",
    "The **worst possible return** you could have seen if yu \"bought high, sold low\""
   ]
  },
  {
   "cell_type": "markdown",
   "metadata": {},
   "source": [
    "**Q2**\n",
    "\n",
    "Drawdown is a measure of downside risk.\n",
    "\n",
    "* True\n",
    "    * It is the theoretical loss you would have sustained if you had invested at the peak and sold at the through."
   ]
  },
  {
   "cell_type": "markdown",
   "metadata": {},
   "source": [
    "## Constructing a Wealth Index"
   ]
  },
  {
   "cell_type": "markdown",
   "metadata": {},
   "source": [
    "* How do we take a return series and convert it to a drawdown?\n",
    "* The drawdown is very consistent with behavioral effects we know we are subject to.\n",
    "    * How much we felt we lose.\n",
    "\n",
    "1. Computing drawdowns is to construct a wealth index.\n",
    "    * A hypothetical buy-and-hold investment in the asset\n",
    "2. Look at the prior peak at any point in time.\n",
    "    * We can **plot the drawdowns over time to be able to see how long it takes to **recover** from the drawdowns."
   ]
  },
  {
   "cell_type": "markdown",
   "metadata": {},
   "source": [
    "**Q3**\n",
    "\n",
    "Assume the risk free rate is never negative. The Drawdown of an investment that returns the Risk Free rate every month is:\n",
    "\n",
    "* Zero\n",
    "    * Since the investment return is always positive, you are never below your previous peak."
   ]
  },
  {
   "cell_type": "markdown",
   "metadata": {},
   "source": [
    "## Risk Adjustment Ratio using Drawdown\n",
    "\n",
    "* You  might wonder if the **Drawdown risk** can be used as the denominator in a manner similar to **using the volatility of the asset** in the sharpe ratio.\n",
    "* The **Calmar Ratio** is defined as the ratio of the annualized return over the trailing 36 months to the **maximum Drawdown** over those trailing 36 months."
   ]
  },
  {
   "cell_type": "markdown",
   "metadata": {},
   "source": [
    "## Some Cautionary Notes About Drawdowns\n",
    "\n",
    "* **They are far from perfect measure**\n",
    "* For instance, they are **entirely defined** by two points and hence are very **sensitive to outliers**\n",
    "* Second, they depend on the **frequency of observations** in general.\n",
    "    * A very deep drawdown on a daily or weeekly basis might almost **completely disapear**\n",
    "    * Or **move to a different location** based on monthly data\n",
    "* In spite of these shortcomings, **Drawdowns** are closely monitored and popular among practitioners.\n",
    "    * Eventhough other measures like **var** and **cvar** are more robust measures of extreme risk"
   ]
  },
  {
   "cell_type": "markdown",
   "metadata": {},
   "source": [
    "**Q4**\n",
    "\n",
    "The Drawdown computed from a daily return series is always greater than or equal to the drawdown computed from the corresponding monthly series.\n",
    "* True\n",
    "    * The lowest point of the account (through) over the month is lower than or equal to the lowest point at the end of each month, since it includes the data point at the end of the month."
   ]
  },
  {
   "cell_type": "code",
   "execution_count": null,
   "metadata": {},
   "outputs": [],
   "source": []
  }
 ],
 "metadata": {
  "kernelspec": {
   "display_name": "Python 3",
   "language": "python",
   "name": "python3"
  },
  "language_info": {
   "codemirror_mode": {
    "name": "ipython",
    "version": 3
   },
   "file_extension": ".py",
   "mimetype": "text/x-python",
   "name": "python",
   "nbconvert_exporter": "python",
   "pygments_lexer": "ipython3",
   "version": "3.7.4"
  }
 },
 "nbformat": 4,
 "nbformat_minor": 4
}
