{
 "cells": [
  {
   "cell_type": "markdown",
   "metadata": {},
   "source": [
    "# Downside Risk Measures"
   ]
  },
  {
   "cell_type": "markdown",
   "metadata": {},
   "source": [
    "Because returns are not normally distributed, a big concern for investors is the probability of large losses, the probability of large negative returns on the portfolios they're holding.\n",
    "\n",
    "* Go beyond volatility, which is a very symmetric risk measure that tells us something about average risk or standard deviation around the mean.\n",
    "* We are going to look at extreme deviation around the mean"
   ]
  },
  {
   "cell_type": "markdown",
   "metadata": {},
   "source": [
    "## Volatility Versus Semi-Deviation"
   ]
  },
  {
   "cell_type": "markdown",
   "metadata": {},
   "source": [
    "**Semi-deviation** is the volatility of the sub-sample of below-average or below-zero returns.\n",
    "* Recognize that volatility or uncertainty doesn't bother investors when it's on the upside.\n",
    "* What bothers investors is when there's uncertainty or volatility on the downside.\n",
    "* $$\\sigma_{semi} = \\sqrt{\\frac{1}{N}\\sum_{R_t \\leq\\hat{R}}(R_t - \\hat{R})^2}$$\n",
    "* Where N is the **number of returns** that fall below the mean\n",
    "* It doesn't tell us anything about the magnitude of the losses that can occur when we are below the mean.\n",
    "* It only tells us something about the average deviation or average uncertainty when we are below the mean."
   ]
  },
  {
   "cell_type": "markdown",
   "metadata": {},
   "source": [
    "## Value at Risk - Motivation"
   ]
  },
  {
   "cell_type": "markdown",
   "metadata": {},
   "source": [
    "**VaR** represents the maximum \"expected\" loss over a given time period.\n",
    "\n",
    "**Value at risk (VaR)** Definition:\n",
    "* Maximum potential loss threshold\n",
    "    * At a specified confidence level - e.i. 99%\n",
    "    * Worst possible outcome after excluding the 1% extreme losses.\n",
    "    * Over a specified holding period - e.i. 1 Month\n",
    "    * The maximum loss that you can take in 99% of the cases over a one month period of time.\n",
    "* Something like the maximum loss that can occur to a portfolio holding with a given probability."
   ]
  },
  {
   "cell_type": "markdown",
   "metadata": {},
   "source": [
    "**Q1**\n",
    "\n",
    "Consider the following sequence of monthly returns on a portfolio: -4%, +5%, +2%, -7%, +1%, +0.5%, -2%, -1%, -2%, +5%.What is the 90% monthly VaR for the portfolio?"
   ]
  },
  {
   "cell_type": "code",
   "execution_count": 4,
   "metadata": {},
   "outputs": [],
   "source": [
    "import numpy as np\n",
    "import matplotlib.pyplot as plt"
   ]
  },
  {
   "cell_type": "code",
   "execution_count": 12,
   "metadata": {},
   "outputs": [],
   "source": [
    "rets = np.array([-4, 5, 2, -7, 1, 0.5, -1, -2, 5])\n",
    "mean = np.mean(rets)\n",
    "std = np.std(rets)"
   ]
  },
  {
   "cell_type": "code",
   "execution_count": 13,
   "metadata": {},
   "outputs": [
    {
     "data": {
      "text/plain": [
       "(-0.05555555555555555, 3.730091184798782)"
      ]
     },
     "execution_count": 13,
     "metadata": {},
     "output_type": "execute_result"
    }
   ],
   "source": [
    "mean, std"
   ]
  },
  {
   "cell_type": "markdown",
   "metadata": {},
   "source": [
    "**Answer**\n",
    "\n",
    "Out of 10 monthly returns, the worst outcome is -7%, so 1 out of 10 returns is equal to -7%, and 9 out of ten are better than -7%. The worst return after excluding the 10% worst return, that is after excluding the worst return, is therefore -4%. VaR is typically expressed as a positive number (-4% means 4% loss): so 4% is the worst loss after excluding the 10% worst losses. "
   ]
  },
  {
   "cell_type": "markdown",
   "metadata": {},
   "source": [
    "## Distribution Beyond VaR"
   ]
  },
  {
   "cell_type": "markdown",
   "metadata": {},
   "source": [
    "* Expected loss beyond VaR\n",
    "    * Look at the value at risk number\n",
    "    * Look at the distribution beyond value at risk\n",
    "    * Now we are looking at whats the avg of that dist beyond VaR.\n",
    "* $$CVaR = -E(R | R \\leq -VaR) = \\frac{-\\int_{-\\infty}^{-VaR}x \\circ f_R(x)dx}{F_R(-VaR)}$$\n",
    "* Expected return, conditional upon the return being less than the VaR number.\n",
    "* VaR and conditional VaR are defined as positive numbers, that's why we have a negative in fron of the expected returns.\n",
    "    * We're talking about very negative outcomes\n",
    "* The RHS is the equation for this quantity assuming that the return distribution has a density function denoted by $f$ or $R$ and a cumulative probability distribution denoted by $F$ or $R$. "
   ]
  },
  {
   "cell_type": "markdown",
   "metadata": {},
   "source": [
    "**Q2**\n",
    "\n",
    "Consider the following sequence of monthly returns on a portfolio: -4%, +5%, +2%, -7%, +1%, +0.5%, -2%, -1%, -2%, +5%. What is the 80% monthly CVaR for the portfolio?\n",
    "\n",
    "* 5.5%\n",
    "* Out of 10 monthly returns, the worst outcome is -7% and the second worst outcome is -4%, so 8 out of 10 outcomes are better than -4%. The worst return after excluding the 20% worst return, that is after excluding the two worst return, is therefore -2%. VaR is typically expressed as a positive number so 2% is the 80% VaR. The CVaR is given by the average loss beyond the VaR, that is -(-7%-4%)/2=5.5%."
   ]
  },
  {
   "cell_type": "code",
   "execution_count": 22,
   "metadata": {},
   "outputs": [
    {
     "data": {
      "text/plain": [
       "5.5"
      ]
     },
     "execution_count": 22,
     "metadata": {},
     "output_type": "execute_result"
    }
   ],
   "source": [
    "rets = np.array([-4, 5, 2, -7, 1, 0.5, -2, -1, -2, 5])\n",
    "cvar = (7+4)/2\n",
    "cvar"
   ]
  },
  {
   "cell_type": "markdown",
   "metadata": {},
   "source": [
    "## Wrap-up\n",
    "\n",
    "* Uncertainty on the downside is what investors are most concerned about.\n",
    "    * Just lookin at volatility doesn't do justice to this\n",
    "* Large losses are particularly important to know about\n",
    "* VaR provides an estimate of potential loss at a given confidence level."
   ]
  },
  {
   "cell_type": "code",
   "execution_count": null,
   "metadata": {},
   "outputs": [],
   "source": []
  }
 ],
 "metadata": {
  "kernelspec": {
   "display_name": "Python 3",
   "language": "python",
   "name": "python3"
  },
  "language_info": {
   "codemirror_mode": {
    "name": "ipython",
    "version": 3
   },
   "file_extension": ".py",
   "mimetype": "text/x-python",
   "name": "python",
   "nbconvert_exporter": "python",
   "pygments_lexer": "ipython3",
   "version": "3.7.4"
  }
 },
 "nbformat": 4,
 "nbformat_minor": 4
}
